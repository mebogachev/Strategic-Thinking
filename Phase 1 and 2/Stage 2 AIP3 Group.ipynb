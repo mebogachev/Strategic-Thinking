{
 "cells": [
  {
   "cell_type": "markdown",
   "metadata": {},
   "source": [
    "# AIP 3 Group Project: Miriam Fernandez Romero, Alexandra Vas Ferreira, Egor Bogachev"
   ]
  },
  {
   "cell_type": "code",
   "execution_count": 1,
   "metadata": {},
   "outputs": [],
   "source": [
    "# importing required libraries\n",
    "import pandas as pd\n",
    "import seaborn as sns\n",
    "import numpy as np\n",
    "import matplotlib.pyplot as plt"
   ]
  },
  {
   "cell_type": "markdown",
   "metadata": {},
   "source": [
    "In below two cells we read dataset downloaded from kagge.com and create the dataframe to work with. Dataset located in https://www.kaggle.com/dileep070/heart-disease-prediction-using-logistic-regression\n",
    "In below cels we read in the dataset into the pandas dataframe"
   ]
  },
  {
   "cell_type": "code",
   "execution_count": 2,
   "metadata": {},
   "outputs": [],
   "source": [
    "database3_url = \"framingham.csv\""
   ]
  },
  {
   "cell_type": "code",
   "execution_count": 3,
   "metadata": {},
   "outputs": [],
   "source": [
    "database3_df=pd.read_csv(database3_url)"
   ]
  },
  {
   "cell_type": "markdown",
   "metadata": {},
   "source": [
    "Below cell shows shows first 4 rows out above dataset"
   ]
  },
  {
   "cell_type": "code",
   "execution_count": 4,
   "metadata": {
    "scrolled": true
   },
   "outputs": [
    {
     "data": {
      "text/html": [
       "<div>\n",
       "<style scoped>\n",
       "    .dataframe tbody tr th:only-of-type {\n",
       "        vertical-align: middle;\n",
       "    }\n",
       "\n",
       "    .dataframe tbody tr th {\n",
       "        vertical-align: top;\n",
       "    }\n",
       "\n",
       "    .dataframe thead th {\n",
       "        text-align: right;\n",
       "    }\n",
       "</style>\n",
       "<table border=\"1\" class=\"dataframe\">\n",
       "  <thead>\n",
       "    <tr style=\"text-align: right;\">\n",
       "      <th></th>\n",
       "      <th>male</th>\n",
       "      <th>age</th>\n",
       "      <th>education</th>\n",
       "      <th>currentSmoker</th>\n",
       "      <th>cigsPerDay</th>\n",
       "      <th>BPMeds</th>\n",
       "      <th>prevalentStroke</th>\n",
       "      <th>prevalentHyp</th>\n",
       "      <th>diabetes</th>\n",
       "      <th>totChol</th>\n",
       "      <th>sysBP</th>\n",
       "      <th>diaBP</th>\n",
       "      <th>BMI</th>\n",
       "      <th>heartRate</th>\n",
       "      <th>glucose</th>\n",
       "      <th>TenYearCHD</th>\n",
       "    </tr>\n",
       "  </thead>\n",
       "  <tbody>\n",
       "    <tr>\n",
       "      <th>0</th>\n",
       "      <td>1</td>\n",
       "      <td>39</td>\n",
       "      <td>4.0</td>\n",
       "      <td>0</td>\n",
       "      <td>0.0</td>\n",
       "      <td>0.0</td>\n",
       "      <td>0</td>\n",
       "      <td>0</td>\n",
       "      <td>0</td>\n",
       "      <td>195.0</td>\n",
       "      <td>106.0</td>\n",
       "      <td>70.0</td>\n",
       "      <td>26.97</td>\n",
       "      <td>80.0</td>\n",
       "      <td>77.0</td>\n",
       "      <td>0</td>\n",
       "    </tr>\n",
       "    <tr>\n",
       "      <th>1</th>\n",
       "      <td>0</td>\n",
       "      <td>46</td>\n",
       "      <td>2.0</td>\n",
       "      <td>0</td>\n",
       "      <td>0.0</td>\n",
       "      <td>0.0</td>\n",
       "      <td>0</td>\n",
       "      <td>0</td>\n",
       "      <td>0</td>\n",
       "      <td>250.0</td>\n",
       "      <td>121.0</td>\n",
       "      <td>81.0</td>\n",
       "      <td>28.73</td>\n",
       "      <td>95.0</td>\n",
       "      <td>76.0</td>\n",
       "      <td>0</td>\n",
       "    </tr>\n",
       "    <tr>\n",
       "      <th>2</th>\n",
       "      <td>1</td>\n",
       "      <td>48</td>\n",
       "      <td>1.0</td>\n",
       "      <td>1</td>\n",
       "      <td>20.0</td>\n",
       "      <td>0.0</td>\n",
       "      <td>0</td>\n",
       "      <td>0</td>\n",
       "      <td>0</td>\n",
       "      <td>245.0</td>\n",
       "      <td>127.5</td>\n",
       "      <td>80.0</td>\n",
       "      <td>25.34</td>\n",
       "      <td>75.0</td>\n",
       "      <td>70.0</td>\n",
       "      <td>0</td>\n",
       "    </tr>\n",
       "    <tr>\n",
       "      <th>3</th>\n",
       "      <td>0</td>\n",
       "      <td>61</td>\n",
       "      <td>3.0</td>\n",
       "      <td>1</td>\n",
       "      <td>30.0</td>\n",
       "      <td>0.0</td>\n",
       "      <td>0</td>\n",
       "      <td>1</td>\n",
       "      <td>0</td>\n",
       "      <td>225.0</td>\n",
       "      <td>150.0</td>\n",
       "      <td>95.0</td>\n",
       "      <td>28.58</td>\n",
       "      <td>65.0</td>\n",
       "      <td>103.0</td>\n",
       "      <td>1</td>\n",
       "    </tr>\n",
       "    <tr>\n",
       "      <th>4</th>\n",
       "      <td>0</td>\n",
       "      <td>46</td>\n",
       "      <td>3.0</td>\n",
       "      <td>1</td>\n",
       "      <td>23.0</td>\n",
       "      <td>0.0</td>\n",
       "      <td>0</td>\n",
       "      <td>0</td>\n",
       "      <td>0</td>\n",
       "      <td>285.0</td>\n",
       "      <td>130.0</td>\n",
       "      <td>84.0</td>\n",
       "      <td>23.10</td>\n",
       "      <td>85.0</td>\n",
       "      <td>85.0</td>\n",
       "      <td>0</td>\n",
       "    </tr>\n",
       "  </tbody>\n",
       "</table>\n",
       "</div>"
      ],
      "text/plain": [
       "   male  age  education  currentSmoker  cigsPerDay  BPMeds  prevalentStroke  \\\n",
       "0     1   39        4.0              0         0.0     0.0                0   \n",
       "1     0   46        2.0              0         0.0     0.0                0   \n",
       "2     1   48        1.0              1        20.0     0.0                0   \n",
       "3     0   61        3.0              1        30.0     0.0                0   \n",
       "4     0   46        3.0              1        23.0     0.0                0   \n",
       "\n",
       "   prevalentHyp  diabetes  totChol  sysBP  diaBP    BMI  heartRate  glucose  \\\n",
       "0             0         0    195.0  106.0   70.0  26.97       80.0     77.0   \n",
       "1             0         0    250.0  121.0   81.0  28.73       95.0     76.0   \n",
       "2             0         0    245.0  127.5   80.0  25.34       75.0     70.0   \n",
       "3             1         0    225.0  150.0   95.0  28.58       65.0    103.0   \n",
       "4             0         0    285.0  130.0   84.0  23.10       85.0     85.0   \n",
       "\n",
       "   TenYearCHD  \n",
       "0           0  \n",
       "1           0  \n",
       "2           0  \n",
       "3           1  \n",
       "4           0  "
      ]
     },
     "execution_count": 4,
     "metadata": {},
     "output_type": "execute_result"
    }
   ],
   "source": [
    "database3_df.head()"
   ]
  },
  {
   "cell_type": "markdown",
   "metadata": {},
   "source": [
    "In below two cells we list basic information on all columns in dataset."
   ]
  },
  {
   "cell_type": "code",
   "execution_count": 5,
   "metadata": {},
   "outputs": [
    {
     "name": "stdout",
     "output_type": "stream",
     "text": [
      "<class 'pandas.core.frame.DataFrame'>\n",
      "RangeIndex: 4238 entries, 0 to 4237\n",
      "Data columns (total 16 columns):\n",
      " #   Column           Non-Null Count  Dtype  \n",
      "---  ------           --------------  -----  \n",
      " 0   male             4238 non-null   int64  \n",
      " 1   age              4238 non-null   int64  \n",
      " 2   education        4133 non-null   float64\n",
      " 3   currentSmoker    4238 non-null   int64  \n",
      " 4   cigsPerDay       4209 non-null   float64\n",
      " 5   BPMeds           4185 non-null   float64\n",
      " 6   prevalentStroke  4238 non-null   int64  \n",
      " 7   prevalentHyp     4238 non-null   int64  \n",
      " 8   diabetes         4238 non-null   int64  \n",
      " 9   totChol          4188 non-null   float64\n",
      " 10  sysBP            4238 non-null   float64\n",
      " 11  diaBP            4238 non-null   float64\n",
      " 12  BMI              4219 non-null   float64\n",
      " 13  heartRate        4237 non-null   float64\n",
      " 14  glucose          3850 non-null   float64\n",
      " 15  TenYearCHD       4238 non-null   int64  \n",
      "dtypes: float64(9), int64(7)\n",
      "memory usage: 529.9 KB\n"
     ]
    }
   ],
   "source": [
    "database3_df.info()"
   ]
  },
  {
   "cell_type": "code",
   "execution_count": 6,
   "metadata": {},
   "outputs": [
    {
     "data": {
      "text/plain": [
       "Index(['male', 'age', 'education', 'currentSmoker', 'cigsPerDay', 'BPMeds',\n",
       "       'prevalentStroke', 'prevalentHyp', 'diabetes', 'totChol', 'sysBP',\n",
       "       'diaBP', 'BMI', 'heartRate', 'glucose', 'TenYearCHD'],\n",
       "      dtype='object')"
      ]
     },
     "execution_count": 6,
     "metadata": {},
     "output_type": "execute_result"
    }
   ],
   "source": [
    "# list the features of the dataset\n",
    "database3_df.columns\n"
   ]
  },
  {
   "cell_type": "markdown",
   "metadata": {},
   "source": [
    "Below two cells list magnitude of missing data for each feature in the dataset"
   ]
  },
  {
   "cell_type": "code",
   "execution_count": 7,
   "metadata": {},
   "outputs": [],
   "source": [
    "missing_data = database3_df.isnull().sum()"
   ]
  },
  {
   "cell_type": "code",
   "execution_count": 8,
   "metadata": {},
   "outputs": [
    {
     "data": {
      "text/plain": [
       "male                 0\n",
       "age                  0\n",
       "education          105\n",
       "currentSmoker        0\n",
       "cigsPerDay          29\n",
       "BPMeds              53\n",
       "prevalentStroke      0\n",
       "prevalentHyp         0\n",
       "diabetes             0\n",
       "totChol             50\n",
       "sysBP                0\n",
       "diaBP                0\n",
       "BMI                 19\n",
       "heartRate            1\n",
       "glucose            388\n",
       "TenYearCHD           0\n",
       "dtype: int64"
      ]
     },
     "execution_count": 8,
     "metadata": {},
     "output_type": "execute_result"
    }
   ],
   "source": [
    "missing_data"
   ]
  },
  {
   "cell_type": "markdown",
   "metadata": {},
   "source": [
    "Below two cels show the age range (min and max) of patients in the dataset"
   ]
  },
  {
   "cell_type": "code",
   "execution_count": 9,
   "metadata": {},
   "outputs": [
    {
     "data": {
      "text/plain": [
       "32"
      ]
     },
     "execution_count": 9,
     "metadata": {},
     "output_type": "execute_result"
    }
   ],
   "source": [
    "database3_df['age'].min()"
   ]
  },
  {
   "cell_type": "code",
   "execution_count": 10,
   "metadata": {},
   "outputs": [
    {
     "data": {
      "text/plain": [
       "70"
      ]
     },
     "execution_count": 10,
     "metadata": {},
     "output_type": "execute_result"
    }
   ],
   "source": [
    "database3_df['age'].max()"
   ]
  },
  {
   "cell_type": "markdown",
   "metadata": {},
   "source": [
    "In below two cells we evaluate total percantage of missing data"
   ]
  },
  {
   "cell_type": "code",
   "execution_count": 11,
   "metadata": {},
   "outputs": [],
   "source": [
    "total_missing = missing_data.sum()\n",
    "total_cells = np.product(database3_df.shape)\n",
    "percent_missing = (total_missing / total_cells) * 100"
   ]
  },
  {
   "cell_type": "code",
   "execution_count": 12,
   "metadata": {},
   "outputs": [
    {
     "name": "stdout",
     "output_type": "stream",
     "text": [
      "0.9512151958470976 %\n"
     ]
    }
   ],
   "source": [
    "print(percent_missing,'%')"
   ]
  },
  {
   "cell_type": "markdown",
   "metadata": {},
   "source": [
    "In below two cells we look at mean valueof data for each featuree in the dataset and repalce the missing value in dataset with mean value of data in column."
   ]
  },
  {
   "cell_type": "code",
   "execution_count": 13,
   "metadata": {},
   "outputs": [
    {
     "data": {
      "text/plain": [
       "male                 0.429212\n",
       "age                 49.584946\n",
       "education            1.978950\n",
       "currentSmoker        0.494101\n",
       "cigsPerDay           9.003089\n",
       "BPMeds               0.029630\n",
       "prevalentStroke      0.005899\n",
       "prevalentHyp         0.310524\n",
       "diabetes             0.025720\n",
       "totChol            236.721585\n",
       "sysBP              132.352407\n",
       "diaBP               82.893464\n",
       "BMI                 25.802008\n",
       "heartRate           75.878924\n",
       "glucose             81.966753\n",
       "TenYearCHD           0.151958\n",
       "dtype: float64"
      ]
     },
     "execution_count": 13,
     "metadata": {},
     "output_type": "execute_result"
    }
   ],
   "source": [
    "database3_df.mean()"
   ]
  },
  {
   "cell_type": "code",
   "execution_count": 14,
   "metadata": {},
   "outputs": [],
   "source": [
    "database3_df = database3_df.fillna(database3_df.mean())\n",
    "# database3_df = np.round"
   ]
  },
  {
   "cell_type": "markdown",
   "metadata": {},
   "source": [
    "Now we chack again for missing data in dataset, there are no mising data anymore."
   ]
  },
  {
   "cell_type": "code",
   "execution_count": 15,
   "metadata": {},
   "outputs": [
    {
     "data": {
      "text/plain": [
       "male               0\n",
       "age                0\n",
       "education          0\n",
       "currentSmoker      0\n",
       "cigsPerDay         0\n",
       "BPMeds             0\n",
       "prevalentStroke    0\n",
       "prevalentHyp       0\n",
       "diabetes           0\n",
       "totChol            0\n",
       "sysBP              0\n",
       "diaBP              0\n",
       "BMI                0\n",
       "heartRate          0\n",
       "glucose            0\n",
       "TenYearCHD         0\n",
       "dtype: int64"
      ]
     },
     "execution_count": 15,
     "metadata": {},
     "output_type": "execute_result"
    }
   ],
   "source": [
    "database3_df.isnull().sum()"
   ]
  },
  {
   "cell_type": "markdown",
   "metadata": {},
   "source": [
    "In below x7 cells we check for data inconcistencies after inserting mean columns values into the cells with missing data. \n",
    "We do it by chcking unique data values in each of x7 columns we modified. The data below shows some data inconsistencies in x6 ot of x7 colums that we modified."
   ]
  },
  {
   "cell_type": "code",
   "execution_count": 16,
   "metadata": {},
   "outputs": [
    {
     "data": {
      "text/plain": [
       "array([4.        , 2.        , 1.        , 3.        , 1.97894992])"
      ]
     },
     "execution_count": 16,
     "metadata": {},
     "output_type": "execute_result"
    }
   ],
   "source": [
    "database3_df.education.unique()"
   ]
  },
  {
   "cell_type": "code",
   "execution_count": 17,
   "metadata": {},
   "outputs": [
    {
     "data": {
      "text/plain": [
       "array([ 0.        , 20.        , 30.        , 23.        , 15.        ,\n",
       "        9.        , 10.        ,  5.        , 35.        , 43.        ,\n",
       "        1.        , 40.        ,  3.        ,  2.        ,  9.00308862,\n",
       "       12.        ,  4.        , 18.        , 25.        , 60.        ,\n",
       "       14.        , 45.        ,  8.        , 50.        , 13.        ,\n",
       "       11.        ,  7.        ,  6.        , 38.        , 29.        ,\n",
       "       17.        , 16.        , 19.        , 70.        ])"
      ]
     },
     "execution_count": 17,
     "metadata": {},
     "output_type": "execute_result"
    }
   ],
   "source": [
    "database3_df.cigsPerDay.unique()"
   ]
  },
  {
   "cell_type": "code",
   "execution_count": 18,
   "metadata": {},
   "outputs": [
    {
     "data": {
      "text/plain": [
       "array([0.        , 1.        , 0.02962963])"
      ]
     },
     "execution_count": 18,
     "metadata": {},
     "output_type": "execute_result"
    }
   ],
   "source": [
    "database3_df.BPMeds.unique()"
   ]
  },
  {
   "cell_type": "code",
   "execution_count": 19,
   "metadata": {},
   "outputs": [
    {
     "data": {
      "text/plain": [
       "array([195.        , 250.        , 245.        , 225.        ,\n",
       "       285.        , 228.        , 205.        , 313.        ,\n",
       "       260.        , 254.        , 247.        , 294.        ,\n",
       "       332.        , 226.        , 221.        , 232.        ,\n",
       "       291.        , 190.        , 185.        , 234.        ,\n",
       "       215.        , 270.        , 272.        , 295.        ,\n",
       "       209.        , 175.        , 214.        , 257.        ,\n",
       "       178.        , 233.        , 180.        , 243.        ,\n",
       "       237.        , 236.72158548, 311.        , 208.        ,\n",
       "       252.        , 261.        , 179.        , 194.        ,\n",
       "       267.        , 216.        , 240.        , 266.        ,\n",
       "       255.        , 220.        , 235.        , 212.        ,\n",
       "       223.        , 300.        , 302.        , 248.        ,\n",
       "       200.        , 189.        , 258.        , 202.        ,\n",
       "       213.        , 183.        , 274.        , 170.        ,\n",
       "       210.        , 197.        , 326.        , 188.        ,\n",
       "       256.        , 244.        , 193.        , 239.        ,\n",
       "       296.        , 269.        , 275.        , 268.        ,\n",
       "       265.        , 173.        , 273.        , 290.        ,\n",
       "       278.        , 264.        , 282.        , 241.        ,\n",
       "       288.        , 222.        , 303.        , 246.        ,\n",
       "       150.        , 187.        , 286.        , 154.        ,\n",
       "       279.        , 293.        , 259.        , 219.        ,\n",
       "       230.        , 320.        , 312.        , 165.        ,\n",
       "       159.        , 174.        , 242.        , 301.        ,\n",
       "       167.        , 308.        , 325.        , 229.        ,\n",
       "       236.        , 224.        , 253.        , 464.        ,\n",
       "       171.        , 186.        , 227.        , 249.        ,\n",
       "       176.        , 163.        , 191.        , 263.        ,\n",
       "       196.        , 310.        , 164.        , 135.        ,\n",
       "       238.        , 207.        , 342.        , 287.        ,\n",
       "       182.        , 352.        , 284.        , 217.        ,\n",
       "       203.        , 262.        , 129.        , 155.        ,\n",
       "       323.        , 206.        , 283.        , 319.        ,\n",
       "       304.        , 340.        , 328.        , 280.        ,\n",
       "       368.        , 218.        , 276.        , 339.        ,\n",
       "       231.        , 198.        , 177.        , 201.        ,\n",
       "       277.        , 184.        , 199.        , 168.        ,\n",
       "       292.        , 305.        , 306.        , 152.        ,\n",
       "       161.        , 181.        , 251.        , 271.        ,\n",
       "       370.        , 439.        , 145.        , 330.        ,\n",
       "       157.        , 398.        , 162.        , 314.        ,\n",
       "       166.        , 160.        , 281.        , 289.        ,\n",
       "       355.        , 307.        , 156.        , 329.        ,\n",
       "       143.        , 211.        , 298.        , 334.        ,\n",
       "       192.        , 204.        , 318.        , 309.        ,\n",
       "       353.        , 360.        , 335.        , 158.        ,\n",
       "       372.        , 346.        , 169.        , 140.        ,\n",
       "       324.        , 600.        , 315.        , 392.        ,\n",
       "       322.        , 149.        , 137.        , 172.        ,\n",
       "       317.        , 358.        , 153.        , 345.        ,\n",
       "       391.        , 410.        , 297.        , 356.        ,\n",
       "       338.        , 107.        , 148.        , 366.        ,\n",
       "       333.        , 327.        , 344.        , 126.        ,\n",
       "       365.        , 362.        , 316.        , 144.        ,\n",
       "       351.        , 390.        , 321.        , 405.        ,\n",
       "       359.        , 350.        , 336.        , 380.        ,\n",
       "       299.        , 124.        , 371.        , 113.        ,\n",
       "       354.        , 382.        , 364.        , 341.        ,\n",
       "       133.        , 367.        , 432.        , 337.        ,\n",
       "       696.        , 363.        , 331.        , 361.        ,\n",
       "       453.        , 347.        , 373.        , 385.        ,\n",
       "       119.        ])"
      ]
     },
     "execution_count": 19,
     "metadata": {},
     "output_type": "execute_result"
    }
   ],
   "source": [
    "database3_df.totChol.unique()"
   ]
  },
  {
   "cell_type": "code",
   "execution_count": 20,
   "metadata": {},
   "outputs": [
    {
     "data": {
      "text/plain": [
       "array([26.97, 28.73, 25.34, ..., 39.17, 26.7 , 43.67])"
      ]
     },
     "execution_count": 20,
     "metadata": {},
     "output_type": "execute_result"
    }
   ],
   "source": [
    "database3_df.BMI.unique()"
   ]
  },
  {
   "cell_type": "code",
   "execution_count": 21,
   "metadata": {},
   "outputs": [
    {
     "data": {
      "text/plain": [
       "array([ 80.        ,  95.        ,  75.        ,  65.        ,\n",
       "        85.        ,  77.        ,  60.        ,  79.        ,\n",
       "        76.        ,  93.        ,  72.        ,  98.        ,\n",
       "        64.        ,  70.        ,  71.        ,  62.        ,\n",
       "        73.        ,  90.        ,  96.        ,  68.        ,\n",
       "        63.        ,  88.        ,  78.        ,  83.        ,\n",
       "       100.        ,  67.        ,  84.        ,  57.        ,\n",
       "        50.        ,  74.        ,  86.        ,  55.        ,\n",
       "        92.        ,  66.        ,  87.        , 110.        ,\n",
       "        81.        ,  56.        ,  89.        ,  82.        ,\n",
       "        48.        , 105.        ,  61.        ,  54.        ,\n",
       "        69.        ,  52.        ,  94.        , 140.        ,\n",
       "       130.        ,  58.        , 108.        , 104.        ,\n",
       "        91.        ,  53.        ,  75.87892377, 106.        ,\n",
       "        59.        ,  51.        , 102.        , 107.        ,\n",
       "       112.        , 125.        , 103.        ,  44.        ,\n",
       "        47.        ,  45.        ,  97.        , 122.        ,\n",
       "       120.        ,  99.        , 115.        , 143.        ,\n",
       "       101.        ,  46.        ])"
      ]
     },
     "execution_count": 21,
     "metadata": {},
     "output_type": "execute_result"
    }
   ],
   "source": [
    "database3_df.heartRate.unique()"
   ]
  },
  {
   "cell_type": "code",
   "execution_count": 22,
   "metadata": {},
   "outputs": [
    {
     "data": {
      "text/plain": [
       "array([ 77.        ,  76.        ,  70.        , 103.        ,\n",
       "        85.        ,  99.        ,  78.        ,  79.        ,\n",
       "        88.        ,  61.        ,  64.        ,  84.        ,\n",
       "        81.96675325,  72.        ,  89.        ,  65.        ,\n",
       "       113.        ,  75.        ,  83.        ,  66.        ,\n",
       "        74.        ,  63.        ,  87.        , 225.        ,\n",
       "        90.        ,  80.        , 100.        , 215.        ,\n",
       "        98.        ,  62.        ,  95.        ,  94.        ,\n",
       "        55.        ,  82.        ,  93.        ,  73.        ,\n",
       "        45.        , 202.        ,  68.        ,  97.        ,\n",
       "       104.        ,  96.        , 126.        , 120.        ,\n",
       "       105.        ,  71.        ,  56.        ,  60.        ,\n",
       "       117.        , 102.        ,  58.        ,  92.        ,\n",
       "       109.        ,  86.        , 107.        ,  54.        ,\n",
       "        67.        ,  69.        ,  57.        ,  91.        ,\n",
       "       132.        , 150.        ,  59.        ,  81.        ,\n",
       "       115.        , 140.        , 112.        , 118.        ,\n",
       "       143.        , 114.        , 160.        , 110.        ,\n",
       "       123.        , 108.        , 145.        , 122.        ,\n",
       "       137.        , 106.        , 127.        , 205.        ,\n",
       "       130.        , 101.        ,  47.        ,  53.        ,\n",
       "       216.        , 163.        , 144.        , 116.        ,\n",
       "       121.        , 172.        , 124.        , 111.        ,\n",
       "        40.        , 186.        , 223.        , 325.        ,\n",
       "        44.        , 156.        , 268.        ,  50.        ,\n",
       "       274.        , 292.        , 255.        , 136.        ,\n",
       "       206.        , 131.        , 148.        , 297.        ,\n",
       "        43.        , 173.        ,  48.        , 386.        ,\n",
       "       155.        , 147.        , 170.        ,  52.        ,\n",
       "       320.        , 254.        , 394.        , 270.        ,\n",
       "       244.        , 183.        , 142.        , 119.        ,\n",
       "       135.        , 167.        , 207.        , 129.        ,\n",
       "       177.        , 250.        , 294.        , 166.        ,\n",
       "       125.        , 332.        , 368.        , 348.        ,\n",
       "       248.        , 370.        , 193.        , 191.        ,\n",
       "       256.        , 235.        , 210.        , 260.        ])"
      ]
     },
     "execution_count": 22,
     "metadata": {},
     "output_type": "execute_result"
    }
   ],
   "source": [
    "database3_df.glucose.unique()"
   ]
  },
  {
   "cell_type": "markdown",
   "metadata": {},
   "source": [
    "Because we found some data inconcistencies in the above columns, we now will round the values in all the x7 above columns in the below cell."
   ]
  },
  {
   "cell_type": "code",
   "execution_count": 23,
   "metadata": {},
   "outputs": [],
   "source": [
    "# round the values in next columns\n",
    "roundCols = ['education','cigsPerDay','BPMeds','totChol','heartRate','glucose','BMI']"
   ]
  },
  {
   "cell_type": "code",
   "execution_count": 24,
   "metadata": {},
   "outputs": [],
   "source": [
    "database3_df[roundCols] = database3_df[roundCols].round(0)"
   ]
  },
  {
   "cell_type": "markdown",
   "metadata": {},
   "source": [
    "Now we check again the unique values in our modified columns (those x7 columns in which we replaced the missing values with column mean values)."
   ]
  },
  {
   "cell_type": "code",
   "execution_count": 25,
   "metadata": {},
   "outputs": [
    {
     "data": {
      "text/plain": [
       "array([4., 2., 1., 3.])"
      ]
     },
     "execution_count": 25,
     "metadata": {},
     "output_type": "execute_result"
    }
   ],
   "source": [
    "database3_df.education.unique()"
   ]
  },
  {
   "cell_type": "code",
   "execution_count": 26,
   "metadata": {},
   "outputs": [
    {
     "data": {
      "text/plain": [
       "array([ 0., 20., 30., 23., 15.,  9., 10.,  5., 35., 43.,  1., 40.,  3.,\n",
       "        2., 12.,  4., 18., 25., 60., 14., 45.,  8., 50., 13., 11.,  7.,\n",
       "        6., 38., 29., 17., 16., 19., 70.])"
      ]
     },
     "execution_count": 26,
     "metadata": {},
     "output_type": "execute_result"
    }
   ],
   "source": [
    "database3_df.cigsPerDay.unique()"
   ]
  },
  {
   "cell_type": "code",
   "execution_count": 27,
   "metadata": {},
   "outputs": [
    {
     "data": {
      "text/plain": [
       "array([0., 1.])"
      ]
     },
     "execution_count": 27,
     "metadata": {},
     "output_type": "execute_result"
    }
   ],
   "source": [
    "database3_df.BPMeds.unique()"
   ]
  },
  {
   "cell_type": "code",
   "execution_count": 28,
   "metadata": {
    "scrolled": true
   },
   "outputs": [
    {
     "data": {
      "text/plain": [
       "array([195., 250., 245., 225., 285., 228., 205., 313., 260., 254., 247.,\n",
       "       294., 332., 226., 221., 232., 291., 190., 185., 234., 215., 270.,\n",
       "       272., 295., 209., 175., 214., 257., 178., 233., 180., 243., 237.,\n",
       "       311., 208., 252., 261., 179., 194., 267., 216., 240., 266., 255.,\n",
       "       220., 235., 212., 223., 300., 302., 248., 200., 189., 258., 202.,\n",
       "       213., 183., 274., 170., 210., 197., 326., 188., 256., 244., 193.,\n",
       "       239., 296., 269., 275., 268., 265., 173., 273., 290., 278., 264.,\n",
       "       282., 241., 288., 222., 303., 246., 150., 187., 286., 154., 279.,\n",
       "       293., 259., 219., 230., 320., 312., 165., 159., 174., 242., 301.,\n",
       "       167., 308., 325., 229., 236., 224., 253., 464., 171., 186., 227.,\n",
       "       249., 176., 163., 191., 263., 196., 310., 164., 135., 238., 207.,\n",
       "       342., 287., 182., 352., 284., 217., 203., 262., 129., 155., 323.,\n",
       "       206., 283., 319., 304., 340., 328., 280., 368., 218., 276., 339.,\n",
       "       231., 198., 177., 201., 277., 184., 199., 168., 292., 305., 306.,\n",
       "       152., 161., 181., 251., 271., 370., 439., 145., 330., 157., 398.,\n",
       "       162., 314., 166., 160., 281., 289., 355., 307., 156., 329., 143.,\n",
       "       211., 298., 334., 192., 204., 318., 309., 353., 360., 335., 158.,\n",
       "       372., 346., 169., 140., 324., 600., 315., 392., 322., 149., 137.,\n",
       "       172., 317., 358., 153., 345., 391., 410., 297., 356., 338., 107.,\n",
       "       148., 366., 333., 327., 344., 126., 365., 362., 316., 144., 351.,\n",
       "       390., 321., 405., 359., 350., 336., 380., 299., 124., 371., 113.,\n",
       "       354., 382., 364., 341., 133., 367., 432., 337., 696., 363., 331.,\n",
       "       361., 453., 347., 373., 385., 119.])"
      ]
     },
     "execution_count": 28,
     "metadata": {},
     "output_type": "execute_result"
    }
   ],
   "source": [
    "database3_df.totChol.unique()"
   ]
  },
  {
   "cell_type": "code",
   "execution_count": 29,
   "metadata": {},
   "outputs": [
    {
     "data": {
      "text/plain": [
       "array([27., 29., 25., 23., 30., 33., 22., 26., 24., 28., 31., 21., 34.,\n",
       "       19., 39., 40., 20., 18., 35., 46., 38., 41., 42., 32., 37., 17.,\n",
       "       44., 36., 16., 43., 45., 57., 51.])"
      ]
     },
     "execution_count": 29,
     "metadata": {},
     "output_type": "execute_result"
    }
   ],
   "source": [
    "database3_df.BMI.unique()"
   ]
  },
  {
   "cell_type": "code",
   "execution_count": 30,
   "metadata": {
    "scrolled": true
   },
   "outputs": [
    {
     "data": {
      "text/plain": [
       "array([ 80.,  95.,  75.,  65.,  85.,  77.,  60.,  79.,  76.,  93.,  72.,\n",
       "        98.,  64.,  70.,  71.,  62.,  73.,  90.,  96.,  68.,  63.,  88.,\n",
       "        78.,  83., 100.,  67.,  84.,  57.,  50.,  74.,  86.,  55.,  92.,\n",
       "        66.,  87., 110.,  81.,  56.,  89.,  82.,  48., 105.,  61.,  54.,\n",
       "        69.,  52.,  94., 140., 130.,  58., 108., 104.,  91.,  53., 106.,\n",
       "        59.,  51., 102., 107., 112., 125., 103.,  44.,  47.,  45.,  97.,\n",
       "       122., 120.,  99., 115., 143., 101.,  46.])"
      ]
     },
     "execution_count": 30,
     "metadata": {},
     "output_type": "execute_result"
    }
   ],
   "source": [
    "database3_df.heartRate.unique()"
   ]
  },
  {
   "cell_type": "code",
   "execution_count": 31,
   "metadata": {},
   "outputs": [
    {
     "data": {
      "text/plain": [
       "array([ 77.,  76.,  70., 103.,  85.,  99.,  78.,  79.,  88.,  61.,  64.,\n",
       "        84.,  82.,  72.,  89.,  65., 113.,  75.,  83.,  66.,  74.,  63.,\n",
       "        87., 225.,  90.,  80., 100., 215.,  98.,  62.,  95.,  94.,  55.,\n",
       "        93.,  73.,  45., 202.,  68.,  97., 104.,  96., 126., 120., 105.,\n",
       "        71.,  56.,  60., 117., 102.,  58.,  92., 109.,  86., 107.,  54.,\n",
       "        67.,  69.,  57.,  91., 132., 150.,  59.,  81., 115., 140., 112.,\n",
       "       118., 143., 114., 160., 110., 123., 108., 145., 122., 137., 106.,\n",
       "       127., 205., 130., 101.,  47.,  53., 216., 163., 144., 116., 121.,\n",
       "       172., 124., 111.,  40., 186., 223., 325.,  44., 156., 268.,  50.,\n",
       "       274., 292., 255., 136., 206., 131., 148., 297.,  43., 173.,  48.,\n",
       "       386., 155., 147., 170.,  52., 320., 254., 394., 270., 244., 183.,\n",
       "       142., 119., 135., 167., 207., 129., 177., 250., 294., 166., 125.,\n",
       "       332., 368., 348., 248., 370., 193., 191., 256., 235., 210., 260.])"
      ]
     },
     "execution_count": 31,
     "metadata": {},
     "output_type": "execute_result"
    }
   ],
   "source": [
    "database3_df.glucose.unique()"
   ]
  },
  {
   "cell_type": "markdown",
   "metadata": {},
   "source": [
    "The data now looks concistent and ready for further analysis / model build."
   ]
  },
  {
   "cell_type": "code",
   "execution_count": 32,
   "metadata": {},
   "outputs": [
    {
     "name": "stdout",
     "output_type": "stream",
     "text": [
      "<class 'pandas.core.frame.DataFrame'>\n",
      "RangeIndex: 4238 entries, 0 to 4237\n",
      "Data columns (total 16 columns):\n",
      " #   Column           Non-Null Count  Dtype  \n",
      "---  ------           --------------  -----  \n",
      " 0   male             4238 non-null   int64  \n",
      " 1   age              4238 non-null   int64  \n",
      " 2   education        4238 non-null   float64\n",
      " 3   currentSmoker    4238 non-null   int64  \n",
      " 4   cigsPerDay       4238 non-null   float64\n",
      " 5   BPMeds           4238 non-null   float64\n",
      " 6   prevalentStroke  4238 non-null   int64  \n",
      " 7   prevalentHyp     4238 non-null   int64  \n",
      " 8   diabetes         4238 non-null   int64  \n",
      " 9   totChol          4238 non-null   float64\n",
      " 10  sysBP            4238 non-null   float64\n",
      " 11  diaBP            4238 non-null   float64\n",
      " 12  BMI              4238 non-null   float64\n",
      " 13  heartRate        4238 non-null   float64\n",
      " 14  glucose          4238 non-null   float64\n",
      " 15  TenYearCHD       4238 non-null   int64  \n",
      "dtypes: float64(9), int64(7)\n",
      "memory usage: 529.9 KB\n"
     ]
    }
   ],
   "source": [
    "database3_df.info()"
   ]
  },
  {
   "cell_type": "code",
   "execution_count": 33,
   "metadata": {},
   "outputs": [],
   "source": [
    "from sklearn import preprocessing\n",
    "\n",
    "# create function to code the categorical data with numerical values\n",
    "def encode_features(dataframe):\n",
    "    result = dataframe.copy()\n",
    "    encoders = {}\n",
    "    for column in result.columns:\n",
    "        if result.dtypes[column] == np.object:\n",
    "            encoders[column] = preprocessing.LabelEncoder()\n",
    "            result[column] = encoders[column].fit_transform(result[column])\n",
    "    return result, encoders"
   ]
  },
  {
   "cell_type": "code",
   "execution_count": 34,
   "metadata": {},
   "outputs": [
    {
     "data": {
      "text/html": [
       "<div>\n",
       "<style scoped>\n",
       "    .dataframe tbody tr th:only-of-type {\n",
       "        vertical-align: middle;\n",
       "    }\n",
       "\n",
       "    .dataframe tbody tr th {\n",
       "        vertical-align: top;\n",
       "    }\n",
       "\n",
       "    .dataframe thead th {\n",
       "        text-align: right;\n",
       "    }\n",
       "</style>\n",
       "<table border=\"1\" class=\"dataframe\">\n",
       "  <thead>\n",
       "    <tr style=\"text-align: right;\">\n",
       "      <th></th>\n",
       "      <th>male</th>\n",
       "      <th>age</th>\n",
       "      <th>education</th>\n",
       "      <th>currentSmoker</th>\n",
       "      <th>cigsPerDay</th>\n",
       "      <th>BPMeds</th>\n",
       "      <th>prevalentStroke</th>\n",
       "      <th>prevalentHyp</th>\n",
       "      <th>diabetes</th>\n",
       "      <th>totChol</th>\n",
       "      <th>sysBP</th>\n",
       "      <th>diaBP</th>\n",
       "      <th>BMI</th>\n",
       "      <th>heartRate</th>\n",
       "      <th>glucose</th>\n",
       "      <th>TenYearCHD</th>\n",
       "    </tr>\n",
       "  </thead>\n",
       "  <tbody>\n",
       "    <tr>\n",
       "      <th>0</th>\n",
       "      <td>1</td>\n",
       "      <td>39</td>\n",
       "      <td>4.0</td>\n",
       "      <td>0</td>\n",
       "      <td>0.0</td>\n",
       "      <td>0.0</td>\n",
       "      <td>0</td>\n",
       "      <td>0</td>\n",
       "      <td>0</td>\n",
       "      <td>195.0</td>\n",
       "      <td>106.0</td>\n",
       "      <td>70.0</td>\n",
       "      <td>27.0</td>\n",
       "      <td>80.0</td>\n",
       "      <td>77.0</td>\n",
       "      <td>0</td>\n",
       "    </tr>\n",
       "    <tr>\n",
       "      <th>1</th>\n",
       "      <td>0</td>\n",
       "      <td>46</td>\n",
       "      <td>2.0</td>\n",
       "      <td>0</td>\n",
       "      <td>0.0</td>\n",
       "      <td>0.0</td>\n",
       "      <td>0</td>\n",
       "      <td>0</td>\n",
       "      <td>0</td>\n",
       "      <td>250.0</td>\n",
       "      <td>121.0</td>\n",
       "      <td>81.0</td>\n",
       "      <td>29.0</td>\n",
       "      <td>95.0</td>\n",
       "      <td>76.0</td>\n",
       "      <td>0</td>\n",
       "    </tr>\n",
       "    <tr>\n",
       "      <th>2</th>\n",
       "      <td>1</td>\n",
       "      <td>48</td>\n",
       "      <td>1.0</td>\n",
       "      <td>1</td>\n",
       "      <td>20.0</td>\n",
       "      <td>0.0</td>\n",
       "      <td>0</td>\n",
       "      <td>0</td>\n",
       "      <td>0</td>\n",
       "      <td>245.0</td>\n",
       "      <td>127.5</td>\n",
       "      <td>80.0</td>\n",
       "      <td>25.0</td>\n",
       "      <td>75.0</td>\n",
       "      <td>70.0</td>\n",
       "      <td>0</td>\n",
       "    </tr>\n",
       "    <tr>\n",
       "      <th>3</th>\n",
       "      <td>0</td>\n",
       "      <td>61</td>\n",
       "      <td>3.0</td>\n",
       "      <td>1</td>\n",
       "      <td>30.0</td>\n",
       "      <td>0.0</td>\n",
       "      <td>0</td>\n",
       "      <td>1</td>\n",
       "      <td>0</td>\n",
       "      <td>225.0</td>\n",
       "      <td>150.0</td>\n",
       "      <td>95.0</td>\n",
       "      <td>29.0</td>\n",
       "      <td>65.0</td>\n",
       "      <td>103.0</td>\n",
       "      <td>1</td>\n",
       "    </tr>\n",
       "    <tr>\n",
       "      <th>4</th>\n",
       "      <td>0</td>\n",
       "      <td>46</td>\n",
       "      <td>3.0</td>\n",
       "      <td>1</td>\n",
       "      <td>23.0</td>\n",
       "      <td>0.0</td>\n",
       "      <td>0</td>\n",
       "      <td>0</td>\n",
       "      <td>0</td>\n",
       "      <td>285.0</td>\n",
       "      <td>130.0</td>\n",
       "      <td>84.0</td>\n",
       "      <td>23.0</td>\n",
       "      <td>85.0</td>\n",
       "      <td>85.0</td>\n",
       "      <td>0</td>\n",
       "    </tr>\n",
       "  </tbody>\n",
       "</table>\n",
       "</div>"
      ],
      "text/plain": [
       "   male  age  education  currentSmoker  cigsPerDay  BPMeds  prevalentStroke  \\\n",
       "0     1   39        4.0              0         0.0     0.0                0   \n",
       "1     0   46        2.0              0         0.0     0.0                0   \n",
       "2     1   48        1.0              1        20.0     0.0                0   \n",
       "3     0   61        3.0              1        30.0     0.0                0   \n",
       "4     0   46        3.0              1        23.0     0.0                0   \n",
       "\n",
       "   prevalentHyp  diabetes  totChol  sysBP  diaBP   BMI  heartRate  glucose  \\\n",
       "0             0         0    195.0  106.0   70.0  27.0       80.0     77.0   \n",
       "1             0         0    250.0  121.0   81.0  29.0       95.0     76.0   \n",
       "2             0         0    245.0  127.5   80.0  25.0       75.0     70.0   \n",
       "3             1         0    225.0  150.0   95.0  29.0       65.0    103.0   \n",
       "4             0         0    285.0  130.0   84.0  23.0       85.0     85.0   \n",
       "\n",
       "   TenYearCHD  \n",
       "0           0  \n",
       "1           0  \n",
       "2           0  \n",
       "3           1  \n",
       "4           0  "
      ]
     },
     "execution_count": 34,
     "metadata": {},
     "output_type": "execute_result"
    }
   ],
   "source": [
    "# implement the above function on our data frame\n",
    "encoded_df, encoders = encode_features(database3_df) \n",
    "encoded_df.head()"
   ]
  },
  {
   "cell_type": "code",
   "execution_count": 35,
   "metadata": {
    "scrolled": false
   },
   "outputs": [
    {
     "data": {
      "image/png": "[encoded data removed]",
      "text/plain": [
       "<Figure size 1224x1080 with 2 Axes>"
      ]
     },
     "metadata": {
      "needs_background": "light"
     },
     "output_type": "display_data"
    }
   ],
   "source": [
    "import matplotlib.pyplot as plt\n",
    "\n",
    "# build correlation matrix for the data features\n",
    "plt.subplots(figsize=(17, 15))\n",
    "sns.heatmap(encoded_df.corr(), square = True, annot=True)\n",
    "plt.show()"
   ]
  },
  {
   "cell_type": "markdown",
   "metadata": {},
   "source": [
    "From above correlation matrix the higest positive correlation with target feature 'TenYerCHD' show the features 'age', 'prevalentHyp', 'sysBP'."
   ]
  },
  {
   "cell_type": "code",
   "execution_count": 36,
   "metadata": {},
   "outputs": [
    {
     "data": {
      "text/plain": [
       "((4238, 15), (4238,))"
      ]
     },
     "execution_count": 36,
     "metadata": {},
     "output_type": "execute_result"
    }
   ],
   "source": [
    "# separate target variable from other features\n",
    "y = np.array(encoded_df['TenYearCHD'])\n",
    "del encoded_df['TenYearCHD']\n",
    "X = encoded_df.values\n",
    "X.shape, y.shape"
   ]
  },
  {
   "cell_type": "code",
   "execution_count": 37,
   "metadata": {},
   "outputs": [],
   "source": [
    "from sklearn.model_selection import train_test_split\n",
    "\n",
    "# split the data into training and testing sets with 90 / 10 ratio\n",
    "X_train, X_test, y_train, y_test = train_test_split(X, y, test_size=0.1, random_state=0)"
   ]
  },
  {
   "cell_type": "markdown",
   "metadata": {},
   "source": [
    "Build KNeighborsClassifier model on our data with test / train split 10% / 90%"
   ]
  },
  {
   "cell_type": "code",
   "execution_count": 38,
   "metadata": {},
   "outputs": [],
   "source": [
    "from sklearn.neighbors import KNeighborsClassifier"
   ]
  },
  {
   "cell_type": "code",
   "execution_count": 39,
   "metadata": {},
   "outputs": [],
   "source": [
    "neighbors = np.arange(1,9)                  # number of neighbors\n",
    "train_accuracy = np.zeros(len(neighbors))   # Declare and initialise the matrix\n",
    "test_accuracy = np.zeros(len(neighbors))    # Declare and initialise the matrix"
   ]
  },
  {
   "cell_type": "code",
   "execution_count": 40,
   "metadata": {},
   "outputs": [
    {
     "name": "stdout",
     "output_type": "stream",
     "text": [
      "\n",
      "For 1 neighbors:\n",
      "Training set score: 1.00\n",
      "Test set score: 0.77\n",
      "\n",
      "For 2 neighbors:\n",
      "Training set score: 0.88\n",
      "Test set score: 0.84\n",
      "\n",
      "For 3 neighbors:\n",
      "Training set score: 0.88\n",
      "Test set score: 0.83\n",
      "\n",
      "For 4 neighbors:\n",
      "Training set score: 0.86\n",
      "Test set score: 0.85\n",
      "\n",
      "For 5 neighbors:\n",
      "Training set score: 0.86\n",
      "Test set score: 0.83\n",
      "\n",
      "For 6 neighbors:\n",
      "Training set score: 0.86\n",
      "Test set score: 0.84\n",
      "\n",
      "For 7 neighbors:\n",
      "Training set score: 0.86\n",
      "Test set score: 0.84\n",
      "\n",
      "For 8 neighbors:\n",
      "Training set score: 0.86\n",
      "Test set score: 0.85\n"
     ]
    }
   ],
   "source": [
    "for i,k in enumerate(neighbors):                          # for loop that checks the model for neighbor values 1, 2, 3, ..., 9\n",
    "    knn = KNeighborsClassifier(n_neighbors = k)           # Initialise an object knn using KNeighborsClassifier method\n",
    "\n",
    "    #Fit the model\n",
    "    knn.fit(X_train, y_train)                      # Call fit method to implement the ML KNeighborsClassifier model\n",
    "\n",
    "    #Compute accuracy on the training set\n",
    "    train_accuracy[i] = knn.score(X_train, y_train)   # Save the score value in the train_accuracy array\n",
    "\n",
    "    #Compute accuracy on the test set\n",
    "    test_accuracy[i] = knn.score(X_test, y_test)      # Save the score value in the train_accuracy array\n",
    "    \n",
    "    print(\"\\nFor\",k,\"neighbors:\")\n",
    "    print(\"Training set score: {:.2f}\".format(knn.score(X_train, y_train)))\n",
    "    print(\"Test set score: {:.2f}\".format(knn.score(X_test, y_test)))"
   ]
  },
  {
   "cell_type": "code",
   "execution_count": 41,
   "metadata": {},
   "outputs": [
    {
     "data": {
      "image/png": "[encoded data removed]",
      "text/plain": [
       "<Figure size 720x432 with 1 Axes>"
      ]
     },
     "metadata": {
      "needs_background": "light"
     },
     "output_type": "display_data"
    }
   ],
   "source": [
    "plt.figure(figsize=(10,6))\n",
    "plt.title('KNN accuracy with varying number of neighbors',fontsize=20)\n",
    "plt.plot(neighbors, test_accuracy, label='Testing Accuracy')\n",
    "plt.plot(neighbors, train_accuracy, label='Training accuracy')\n",
    "plt.legend(prop={'size': 20})\n",
    "plt.xlabel('Number of neighbors',fontsize=20)\n",
    "plt.ylabel('Accuracy',fontsize=20)\n",
    "plt.xticks(fontsize=20)\n",
    "plt.yticks(fontsize=20)\n",
    "plt.show()"
   ]
  },
  {
   "cell_type": "markdown",
   "metadata": {},
   "source": [
    "Repeating above steps for KNeighborsClassifier model on our data with test / train split 20% / 80%"
   ]
  },
  {
   "cell_type": "code",
   "execution_count": 42,
   "metadata": {},
   "outputs": [],
   "source": [
    "# split the data into training and testing sets with 80 / 20 ratio\n",
    "X_train, X_test, y_train, y_test = train_test_split(X, y, test_size=0.2, random_state=0)"
   ]
  },
  {
   "cell_type": "code",
   "execution_count": 43,
   "metadata": {},
   "outputs": [
    {
     "name": "stdout",
     "output_type": "stream",
     "text": [
      "\n",
      "For 1 neighbors:\n",
      "Training set score: 1.00\n",
      "Test set score: 0.77\n",
      "\n",
      "For 2 neighbors:\n",
      "Training set score: 0.88\n",
      "Test set score: 0.83\n",
      "\n",
      "For 3 neighbors:\n",
      "Training set score: 0.88\n",
      "Test set score: 0.82\n",
      "\n",
      "For 4 neighbors:\n",
      "Training set score: 0.86\n",
      "Test set score: 0.83\n",
      "\n",
      "For 5 neighbors:\n",
      "Training set score: 0.86\n",
      "Test set score: 0.83\n",
      "\n",
      "For 6 neighbors:\n",
      "Training set score: 0.86\n",
      "Test set score: 0.84\n",
      "\n",
      "For 7 neighbors:\n",
      "Training set score: 0.86\n",
      "Test set score: 0.83\n",
      "\n",
      "For 8 neighbors:\n",
      "Training set score: 0.86\n",
      "Test set score: 0.84\n"
     ]
    }
   ],
   "source": [
    "for i,k in enumerate(neighbors):                          # for loop that checks the model for neighbor values 1, 2, 3, ..., 9\n",
    "    knn = KNeighborsClassifier(n_neighbors = k)           # Initialise an object knn using KNeighborsClassifier method\n",
    "\n",
    "    #Fit the model\n",
    "    knn.fit(X_train, y_train)                      # Call fit method to implement the ML KNeighborsClassifier model\n",
    "\n",
    "    #Compute accuracy on the training set\n",
    "    train_accuracy[i] = knn.score(X_train, y_train)   # Save the score value in the train_accuracy array\n",
    "\n",
    "    #Compute accuracy on the test set\n",
    "    test_accuracy[i] = knn.score(X_test, y_test)      # Save the score value in the train_accuracy array\n",
    "    \n",
    "    print(\"\\nFor\",k,\"neighbors:\")\n",
    "    print(\"Training set score: {:.2f}\".format(knn.score(X_train, y_train)))\n",
    "    print(\"Test set score: {:.2f}\".format(knn.score(X_test, y_test)))"
   ]
  },
  {
   "cell_type": "code",
   "execution_count": 44,
   "metadata": {},
   "outputs": [
    {
     "data": {
      "image/png": "[encoded data removed]",
      "text/plain": [
       "<Figure size 720x432 with 1 Axes>"
      ]
     },
     "metadata": {
      "needs_background": "light"
     },
     "output_type": "display_data"
    }
   ],
   "source": [
    "plt.figure(figsize=(10,6))\n",
    "plt.title('KNN accuracy with varying number of neighbors',fontsize=20)\n",
    "plt.plot(neighbors, test_accuracy, label='Testing Accuracy')\n",
    "plt.plot(neighbors, train_accuracy, label='Training accuracy')\n",
    "plt.legend(prop={'size': 20})\n",
    "plt.xlabel('Number of neighbors',fontsize=20)\n",
    "plt.ylabel('Accuracy',fontsize=20)\n",
    "plt.xticks(fontsize=20)\n",
    "plt.yticks(fontsize=20)\n",
    "plt.show()"
   ]
  },
  {
   "cell_type": "markdown",
   "metadata": {},
   "source": [
    "Repeating above steps for KNeighborsClassifier model on our data with test / train split 30% / 70%"
   ]
  },
  {
   "cell_type": "code",
   "execution_count": 45,
   "metadata": {},
   "outputs": [],
   "source": [
    "# split the data into training and testing sets with 70 / 30 ratio\n",
    "X_train, X_test, y_train, y_test = train_test_split(X, y, test_size=0.3, random_state=0)"
   ]
  },
  {
   "cell_type": "code",
   "execution_count": 46,
   "metadata": {},
   "outputs": [
    {
     "name": "stdout",
     "output_type": "stream",
     "text": [
      "\n",
      "For 1 neighbors:\n",
      "Training set score: 1.00\n",
      "Test set score: 0.78\n",
      "\n",
      "For 2 neighbors:\n",
      "Training set score: 0.88\n",
      "Test set score: 0.84\n",
      "\n",
      "For 3 neighbors:\n",
      "Training set score: 0.88\n",
      "Test set score: 0.82\n",
      "\n",
      "For 4 neighbors:\n",
      "Training set score: 0.86\n",
      "Test set score: 0.84\n",
      "\n",
      "For 5 neighbors:\n",
      "Training set score: 0.86\n",
      "Test set score: 0.83\n",
      "\n",
      "For 6 neighbors:\n",
      "Training set score: 0.86\n",
      "Test set score: 0.84\n",
      "\n",
      "For 7 neighbors:\n",
      "Training set score: 0.86\n",
      "Test set score: 0.83\n",
      "\n",
      "For 8 neighbors:\n",
      "Training set score: 0.86\n",
      "Test set score: 0.84\n"
     ]
    }
   ],
   "source": [
    "for i,k in enumerate(neighbors):                          # for loop that checks the model for neighbor values 1, 2, 3, ..., 9\n",
    "    knn = KNeighborsClassifier(n_neighbors = k)           # Initialise an object knn using KNeighborsClassifier method\n",
    "\n",
    "    #Fit the model\n",
    "    knn.fit(X_train, y_train)                      # Call fit method to implement the ML KNeighborsClassifier model\n",
    "\n",
    "    #Compute accuracy on the training set\n",
    "    train_accuracy[i] = knn.score(X_train, y_train)   # Save the score value in the train_accuracy array\n",
    "\n",
    "    #Compute accuracy on the test set\n",
    "    test_accuracy[i] = knn.score(X_test, y_test)      # Save the score value in the train_accuracy array\n",
    "    \n",
    "    print(\"\\nFor\",k,\"neighbors:\")\n",
    "    print(\"Training set score: {:.2f}\".format(knn.score(X_train, y_train)))\n",
    "    print(\"Test set score: {:.2f}\".format(knn.score(X_test, y_test)))"
   ]
  },
  {
   "cell_type": "code",
   "execution_count": 47,
   "metadata": {},
   "outputs": [
    {
     "data": {
      "image/png": "[encoded data removed]",
      "text/plain": [
       "<Figure size 720x432 with 1 Axes>"
      ]
     },
     "metadata": {
      "needs_background": "light"
     },
     "output_type": "display_data"
    }
   ],
   "source": [
    "plt.figure(figsize=(10,6))\n",
    "plt.title('KNN accuracy with varying number of neighbors',fontsize=20)\n",
    "plt.plot(neighbors, test_accuracy, label='Testing Accuracy')\n",
    "plt.plot(neighbors, train_accuracy, label='Training accuracy')\n",
    "plt.legend(prop={'size': 20})\n",
    "plt.xlabel('Number of neighbors',fontsize=20)\n",
    "plt.ylabel('Accuracy',fontsize=20)\n",
    "plt.xticks(fontsize=20)\n",
    "plt.yticks(fontsize=20)\n",
    "plt.show()"
   ]
  },
  {
   "cell_type": "markdown",
   "metadata": {},
   "source": [
    "We can see from above model training and accuracies validations than test accuracy inscreased when neighbors increase from 1 to 8 and this trend is concistent through all x3 tried test / train split ratios (10%/90%, 20%/80%, 30%/70%)"
   ]
  },
  {
   "cell_type": "markdown",
   "metadata": {},
   "source": [
    "Build SVC model on our data with train / test split ratio of 70% / 30%"
   ]
  },
  {
   "cell_type": "code",
   "execution_count": 51,
   "metadata": {},
   "outputs": [
    {
     "name": "stdout",
     "output_type": "stream",
     "text": [
      "Training set score: 0.85\n",
      "Test set score: 0.84\n"
     ]
    }
   ],
   "source": [
    "#Support Vector Classification model\n",
    "from sklearn.svm import SVC\n",
    "svc_model = SVC()\n",
    "svc_model.fit(X_train, y_train)\n",
    "\n",
    "print(\"Training set score: {:.2f}\".format(svc_model.score(X_train, y_train)))\n",
    "print(\"Test set score: {:.2f}\".format(svc_model.score(X_test, y_test)))"
   ]
  },
  {
   "cell_type": "markdown",
   "metadata": {},
   "source": [
    "Now we normalise / scale our data and run CSV model again"
   ]
  },
  {
   "cell_type": "code",
   "execution_count": 52,
   "metadata": {},
   "outputs": [],
   "source": [
    "# normalized scaler - fit&transform on train, fit only on test\n",
    "from sklearn.preprocessing import MinMaxScaler\n",
    "n_scaler = MinMaxScaler()\n",
    "X_train_scaled = n_scaler.fit_transform(X_train.astype(np.float))\n",
    "X_test_scaled = n_scaler.transform(X_test.astype(np.float))"
   ]
  },
  {
   "cell_type": "code",
   "execution_count": 53,
   "metadata": {},
   "outputs": [
    {
     "name": "stdout",
     "output_type": "stream",
     "text": [
      "Training set score: 0.85\n",
      "Test set score: 0.84\n"
     ]
    }
   ],
   "source": [
    "#Support Vector Classification model -  apply on scaled data\n",
    "from sklearn.svm import SVC\n",
    "svc_model = SVC()\n",
    "svc_model.fit(X_train_scaled, y_train)\n",
    "\n",
    "print(\"Training set score: {:.2f}\".format(svc_model.score(X_train_scaled, y_train)))\n",
    "print(\"Test set score: {:.2f}\".format(svc_model.score(X_test_scaled, y_test)))"
   ]
  },
  {
   "cell_type": "markdown",
   "metadata": {},
   "source": [
    "In below cells we run artificial neural network model on out dataframe"
   ]
  },
  {
   "cell_type": "code",
   "execution_count": 54,
   "metadata": {},
   "outputs": [],
   "source": [
    "#import required libraries\n",
    "import tensorflow as tf\n",
    "from tensorflow import keras\n",
    "import matplotlib.pyplot as plt\n",
    "%matplotlib inline\n",
    "import numpy as np"
   ]
  },
  {
   "cell_type": "code",
   "execution_count": 55,
   "metadata": {},
   "outputs": [
    {
     "name": "stdout",
     "output_type": "stream",
     "text": [
      "Epoch 1/100\n",
      "WARNING:tensorflow:Model was constructed with shape (None, 15, 15) for input KerasTensor(type_spec=TensorSpec(shape=(None, 15, 15), dtype=tf.float32, name='dense_input'), name='dense_input', description=\"created by layer 'dense_input'\"), but it was called on an input with incompatible shape (None, 15).\n",
      "WARNING:tensorflow:Model was constructed with shape (None, 15, 15) for input KerasTensor(type_spec=TensorSpec(shape=(None, 15, 15), dtype=tf.float32, name='dense_input'), name='dense_input', description=\"created by layer 'dense_input'\"), but it was called on an input with incompatible shape (None, 15).\n",
      "93/93 [==============================] - 2s 4ms/step - loss: 2.0404 - accuracy: 0.3260\n",
      "Epoch 2/100\n",
      "93/93 [==============================] - 0s 5ms/step - loss: 1.5130 - accuracy: 0.6407\n",
      "Epoch 3/100\n",
      "93/93 [==============================] - 0s 5ms/step - loss: 1.1687 - accuracy: 0.8103\n",
      "Epoch 4/100\n",
      "93/93 [==============================] - 0s 4ms/step - loss: 0.9370 - accuracy: 0.8434\n",
      "Epoch 5/100\n",
      "93/93 [==============================] - 0s 3ms/step - loss: 0.8266 - accuracy: 0.8370\n",
      "Epoch 6/100\n",
      "93/93 [==============================] - 0s 3ms/step - loss: 0.7321 - accuracy: 0.8371\n",
      "Epoch 7/100\n",
      "93/93 [==============================] - 0s 3ms/step - loss: 0.6760 - accuracy: 0.8410\n",
      "Epoch 8/100\n",
      "93/93 [==============================] - 0s 3ms/step - loss: 0.6395 - accuracy: 0.8354\n",
      "Epoch 9/100\n",
      "93/93 [==============================] - 0s 2ms/step - loss: 0.5819 - accuracy: 0.8505\n",
      "Epoch 10/100\n",
      "93/93 [==============================] - 0s 2ms/step - loss: 0.5558 - accuracy: 0.8484\n",
      "Epoch 11/100\n",
      "93/93 [==============================] - 0s 2ms/step - loss: 0.5473 - accuracy: 0.8459\n",
      "Epoch 12/100\n",
      "93/93 [==============================] - 0s 2ms/step - loss: 0.5262 - accuracy: 0.8481\n",
      "Epoch 13/100\n",
      "93/93 [==============================] - 0s 2ms/step - loss: 0.5319 - accuracy: 0.8379\n",
      "Epoch 14/100\n",
      "93/93 [==============================] - 0s 2ms/step - loss: 0.5048 - accuracy: 0.8459\n",
      "Epoch 15/100\n",
      "93/93 [==============================] - 0s 2ms/step - loss: 0.4867 - accuracy: 0.8483\n",
      "Epoch 16/100\n",
      "93/93 [==============================] - 0s 2ms/step - loss: 0.4815 - accuracy: 0.8462\n",
      "Epoch 17/100\n",
      "93/93 [==============================] - 0s 2ms/step - loss: 0.4705 - accuracy: 0.8505\n",
      "Epoch 18/100\n",
      "93/93 [==============================] - 0s 1ms/step - loss: 0.4438 - accuracy: 0.8652\n",
      "Epoch 19/100\n",
      "93/93 [==============================] - 0s 1ms/step - loss: 0.4673 - accuracy: 0.8431\n",
      "Epoch 20/100\n",
      "93/93 [==============================] - 0s 1ms/step - loss: 0.4459 - accuracy: 0.8534\n",
      "Epoch 21/100\n",
      "93/93 [==============================] - 0s 1ms/step - loss: 0.4420 - accuracy: 0.8525\n",
      "Epoch 22/100\n",
      "93/93 [==============================] - 0s 1ms/step - loss: 0.4536 - accuracy: 0.8449\n",
      "Epoch 23/100\n",
      "93/93 [==============================] - 0s 1ms/step - loss: 0.4171 - accuracy: 0.8644\n",
      "Epoch 24/100\n",
      "93/93 [==============================] - 0s 1ms/step - loss: 0.4471 - accuracy: 0.8426\n",
      "Epoch 25/100\n",
      "93/93 [==============================] - 0s 2ms/step - loss: 0.4362 - accuracy: 0.8494\n",
      "Epoch 26/100\n",
      "93/93 [==============================] - 0s 1ms/step - loss: 0.4467 - accuracy: 0.8417\n",
      "Epoch 27/100\n",
      "93/93 [==============================] - 0s 1ms/step - loss: 0.4270 - accuracy: 0.8508\n",
      "Epoch 28/100\n",
      "93/93 [==============================] - 0s 1ms/step - loss: 0.4115 - accuracy: 0.8585\n",
      "Epoch 29/100\n",
      "93/93 [==============================] - 0s 2ms/step - loss: 0.4319 - accuracy: 0.8465\n",
      "Epoch 30/100\n",
      "93/93 [==============================] - 0s 1ms/step - loss: 0.4204 - accuracy: 0.8490\n",
      "Epoch 31/100\n",
      "93/93 [==============================] - 0s 1ms/step - loss: 0.4231 - accuracy: 0.8455\n",
      "Epoch 32/100\n",
      "93/93 [==============================] - 0s 1ms/step - loss: 0.4323 - accuracy: 0.8460\n",
      "Epoch 33/100\n",
      "93/93 [==============================] - 0s 1ms/step - loss: 0.4189 - accuracy: 0.8519\n",
      "Epoch 34/100\n",
      "93/93 [==============================] - 0s 1ms/step - loss: 0.4142 - accuracy: 0.8503\n",
      "Epoch 35/100\n",
      "93/93 [==============================] - 0s 1ms/step - loss: 0.4045 - accuracy: 0.8568\n",
      "Epoch 36/100\n",
      "93/93 [==============================] - 0s 1ms/step - loss: 0.4199 - accuracy: 0.8484\n",
      "Epoch 37/100\n",
      "93/93 [==============================] - 0s 1ms/step - loss: 0.4089 - accuracy: 0.8517\n",
      "Epoch 38/100\n",
      "93/93 [==============================] - 0s 1ms/step - loss: 0.4109 - accuracy: 0.8518\n",
      "Epoch 39/100\n",
      "93/93 [==============================] - 0s 2ms/step - loss: 0.4107 - accuracy: 0.8533\n",
      "Epoch 40/100\n",
      "93/93 [==============================] - 0s 1ms/step - loss: 0.4012 - accuracy: 0.8549\n",
      "Epoch 41/100\n",
      "93/93 [==============================] - 0s 1ms/step - loss: 0.4029 - accuracy: 0.8549\n",
      "Epoch 42/100\n",
      "93/93 [==============================] - 0s 1ms/step - loss: 0.4239 - accuracy: 0.8413\n",
      "Epoch 43/100\n",
      "93/93 [==============================] - 0s 1ms/step - loss: 0.4265 - accuracy: 0.8414\n",
      "Epoch 44/100\n",
      "93/93 [==============================] - 0s 1ms/step - loss: 0.4056 - accuracy: 0.8473\n",
      "Epoch 45/100\n",
      "93/93 [==============================] - 0s 2ms/step - loss: 0.4029 - accuracy: 0.8505\n",
      "Epoch 46/100\n",
      "93/93 [==============================] - 0s 2ms/step - loss: 0.3989 - accuracy: 0.8562\n",
      "Epoch 47/100\n",
      "93/93 [==============================] - ETA: 0s - loss: 0.4118 - accuracy: 0.84 - 0s 2ms/step - loss: 0.4107 - accuracy: 0.8489\n",
      "Epoch 48/100\n",
      "93/93 [==============================] - 0s 1ms/step - loss: 0.3774 - accuracy: 0.8632\n",
      "Epoch 49/100\n",
      "93/93 [==============================] - 0s 1ms/step - loss: 0.3990 - accuracy: 0.8530\n",
      "Epoch 50/100\n",
      "93/93 [==============================] - 0s 1ms/step - loss: 0.4232 - accuracy: 0.8423\n",
      "Epoch 51/100\n",
      "93/93 [==============================] - 0s 1ms/step - loss: 0.3956 - accuracy: 0.8594\n",
      "Epoch 52/100\n",
      "93/93 [==============================] - 0s 1ms/step - loss: 0.4142 - accuracy: 0.8481\n",
      "Epoch 53/100\n",
      "93/93 [==============================] - 0s 1ms/step - loss: 0.3874 - accuracy: 0.8570\n",
      "Epoch 54/100\n",
      "93/93 [==============================] - 0s 1ms/step - loss: 0.3980 - accuracy: 0.8539\n",
      "Epoch 55/100\n",
      "93/93 [==============================] - 0s 1ms/step - loss: 0.4113 - accuracy: 0.8449\n",
      "Epoch 56/100\n",
      "93/93 [==============================] - 0s 1ms/step - loss: 0.4230 - accuracy: 0.8400\n",
      "Epoch 57/100\n",
      "93/93 [==============================] - 0s 1ms/step - loss: 0.3989 - accuracy: 0.8524\n",
      "Epoch 58/100\n",
      "93/93 [==============================] - 0s 1ms/step - loss: 0.3885 - accuracy: 0.8603\n",
      "Epoch 59/100\n",
      "93/93 [==============================] - 0s 1ms/step - loss: 0.4018 - accuracy: 0.8465\n",
      "Epoch 60/100\n",
      "93/93 [==============================] - 0s 2ms/step - loss: 0.4060 - accuracy: 0.8486\n",
      "Epoch 61/100\n",
      "93/93 [==============================] - 0s 1ms/step - loss: 0.3933 - accuracy: 0.8537\n",
      "Epoch 62/100\n",
      "93/93 [==============================] - 0s 1ms/step - loss: 0.3743 - accuracy: 0.8636\n",
      "Epoch 63/100\n",
      "93/93 [==============================] - 0s 1ms/step - loss: 0.4013 - accuracy: 0.8490\n",
      "Epoch 64/100\n",
      "93/93 [==============================] - 0s 1ms/step - loss: 0.4031 - accuracy: 0.8462\n",
      "Epoch 65/100\n",
      "93/93 [==============================] - 0s 1ms/step - loss: 0.4029 - accuracy: 0.8495\n",
      "Epoch 66/100\n",
      "93/93 [==============================] - 0s 1ms/step - loss: 0.3813 - accuracy: 0.8628\n",
      "Epoch 67/100\n",
      "93/93 [==============================] - 0s 1ms/step - loss: 0.4016 - accuracy: 0.8498\n",
      "Epoch 68/100\n",
      "93/93 [==============================] - 0s 1ms/step - loss: 0.3828 - accuracy: 0.8601\n",
      "Epoch 69/100\n",
      "93/93 [==============================] - 0s 1ms/step - loss: 0.4001 - accuracy: 0.8468\n",
      "Epoch 70/100\n",
      "93/93 [==============================] - 0s 1ms/step - loss: 0.3974 - accuracy: 0.8494\n",
      "Epoch 71/100\n",
      "93/93 [==============================] - 0s 1ms/step - loss: 0.4004 - accuracy: 0.8489\n",
      "Epoch 72/100\n",
      "93/93 [==============================] - 0s 1ms/step - loss: 0.3770 - accuracy: 0.8619\n",
      "Epoch 73/100\n",
      "93/93 [==============================] - 0s 1ms/step - loss: 0.3909 - accuracy: 0.8568\n",
      "Epoch 74/100\n",
      "93/93 [==============================] - 0s 1ms/step - loss: 0.4041 - accuracy: 0.8438\n",
      "Epoch 75/100\n",
      "93/93 [==============================] - 0s 1ms/step - loss: 0.4040 - accuracy: 0.8441\n",
      "Epoch 76/100\n",
      "93/93 [==============================] - 0s 1ms/step - loss: 0.3821 - accuracy: 0.8598\n",
      "Epoch 77/100\n",
      "93/93 [==============================] - 0s 1ms/step - loss: 0.3650 - accuracy: 0.8679\n",
      "Epoch 78/100\n",
      "93/93 [==============================] - 0s 1ms/step - loss: 0.3832 - accuracy: 0.8583\n",
      "Epoch 79/100\n",
      "93/93 [==============================] - 0s 979us/step - loss: 0.4071 - accuracy: 0.8461\n",
      "Epoch 80/100\n",
      "93/93 [==============================] - 0s 980us/step - loss: 0.3892 - accuracy: 0.8529\n",
      "Epoch 81/100\n",
      "93/93 [==============================] - 0s 1ms/step - loss: 0.3867 - accuracy: 0.8581\n",
      "Epoch 82/100\n",
      "93/93 [==============================] - 0s 1ms/step - loss: 0.3845 - accuracy: 0.8561\n",
      "Epoch 83/100\n",
      "93/93 [==============================] - 0s 1ms/step - loss: 0.3822 - accuracy: 0.8569\n",
      "Epoch 84/100\n",
      "93/93 [==============================] - 0s 1ms/step - loss: 0.3866 - accuracy: 0.8585\n",
      "Epoch 85/100\n",
      "93/93 [==============================] - 0s 973us/step - loss: 0.3713 - accuracy: 0.8608\n",
      "Epoch 86/100\n",
      "93/93 [==============================] - 0s 1ms/step - loss: 0.4056 - accuracy: 0.8411\n",
      "Epoch 87/100\n",
      "93/93 [==============================] - 0s 1ms/step - loss: 0.3728 - accuracy: 0.8616\n",
      "Epoch 88/100\n",
      "93/93 [==============================] - 0s 1ms/step - loss: 0.3881 - accuracy: 0.8545\n",
      "Epoch 89/100\n",
      "93/93 [==============================] - 0s 1ms/step - loss: 0.3803 - accuracy: 0.8631\n",
      "Epoch 90/100\n",
      "93/93 [==============================] - 0s 910us/step - loss: 0.4165 - accuracy: 0.8362\n",
      "Epoch 91/100\n",
      "93/93 [==============================] - 0s 1ms/step - loss: 0.3816 - accuracy: 0.8598\n",
      "Epoch 92/100\n",
      "93/93 [==============================] - 0s 1ms/step - loss: 0.3975 - accuracy: 0.8520\n",
      "Epoch 93/100\n",
      "93/93 [==============================] - 0s 1ms/step - loss: 0.3808 - accuracy: 0.8577\n",
      "Epoch 94/100\n",
      "93/93 [==============================] - 0s 2ms/step - loss: 0.4040 - accuracy: 0.8467\n",
      "Epoch 95/100\n",
      "93/93 [==============================] - 0s 1ms/step - loss: 0.3775 - accuracy: 0.8555\n",
      "Epoch 96/100\n",
      "93/93 [==============================] - 0s 1ms/step - loss: 0.3914 - accuracy: 0.8460\n",
      "Epoch 97/100\n",
      "93/93 [==============================] - 0s 2ms/step - loss: 0.3846 - accuracy: 0.8535\n",
      "Epoch 98/100\n",
      "93/93 [==============================] - 0s 2ms/step - loss: 0.3775 - accuracy: 0.8549\n",
      "Epoch 99/100\n",
      "93/93 [==============================] - 0s 2ms/step - loss: 0.3918 - accuracy: 0.8504\n",
      "Epoch 100/100\n",
      "93/93 [==============================] - 0s 2ms/step - loss: 0.3996 - accuracy: 0.8524\n"
     ]
    },
    {
     "data": {
      "text/plain": [
       "<tensorflow.python.keras.callbacks.History at 0x66ed0ed60>"
      ]
     },
     "execution_count": 55,
     "metadata": {},
     "output_type": "execute_result"
    }
   ],
   "source": [
    "#build model\n",
    "model = keras.Sequential([\n",
    "    keras.layers.Dense(10, input_shape=(15,15),activation='sigmoid')    \n",
    "])\n",
    "model.compile(\n",
    "                optimizer='adam',\n",
    "                loss='sparse_categorical_crossentropy',\n",
    "                metrics=['accuracy']\n",
    "             )\n",
    "model.fit(X_train_scaled,y_train,epochs=100)"
   ]
  },
  {
   "cell_type": "code",
   "execution_count": 56,
   "metadata": {
    "scrolled": true
   },
   "outputs": [
    {
     "name": "stdout",
     "output_type": "stream",
     "text": [
      "WARNING:tensorflow:Model was constructed with shape (None, 15, 15) for input KerasTensor(type_spec=TensorSpec(shape=(None, 15, 15), dtype=tf.float32, name='dense_input'), name='dense_input', description=\"created by layer 'dense_input'\"), but it was called on an input with incompatible shape (None, 15).\n",
      "40/40 [==============================] - 1s 2ms/step - loss: 0.3917 - accuracy: 0.8451\n"
     ]
    },
    {
     "data": {
      "text/plain": [
       "[0.3917216360569, 0.8451257944107056]"
      ]
     },
     "execution_count": 56,
     "metadata": {},
     "output_type": "execute_result"
    }
   ],
   "source": [
    "#evaluate model\n",
    "model.evaluate(X_test_scaled,y_test)"
   ]
  },
  {
   "cell_type": "code",
   "execution_count": 57,
   "metadata": {},
   "outputs": [
    {
     "name": "stdout",
     "output_type": "stream",
     "text": [
      "Epoch 1/100\n",
      "WARNING:tensorflow:Model was constructed with shape (None, 15, 15) for input KerasTensor(type_spec=TensorSpec(shape=(None, 15, 15), dtype=tf.float32, name='dense_1_input'), name='dense_1_input', description=\"created by layer 'dense_1_input'\"), but it was called on an input with incompatible shape (None, 15).\n",
      "WARNING:tensorflow:Model was constructed with shape (None, 15, 15) for input KerasTensor(type_spec=TensorSpec(shape=(None, 15, 15), dtype=tf.float32, name='dense_1_input'), name='dense_1_input', description=\"created by layer 'dense_1_input'\"), but it was called on an input with incompatible shape (None, 15).\n",
      "93/93 [==============================] - 2s 2ms/step - loss: 1.5849 - accuracy: 0.6919\n",
      "Epoch 2/100\n",
      "93/93 [==============================] - 0s 3ms/step - loss: 0.4608 - accuracy: 0.8544\n",
      "Epoch 3/100\n",
      "93/93 [==============================] - 0s 2ms/step - loss: 0.4215 - accuracy: 0.8499\n",
      "Epoch 4/100\n",
      "93/93 [==============================] - 0s 2ms/step - loss: 0.4114 - accuracy: 0.8478\n",
      "Epoch 5/100\n",
      "93/93 [==============================] - 0s 2ms/step - loss: 0.3940 - accuracy: 0.8603\n",
      "Epoch 6/100\n",
      "93/93 [==============================] - 0s 2ms/step - loss: 0.3817 - accuracy: 0.8606\n",
      "Epoch 7/100\n",
      "93/93 [==============================] - 0s 2ms/step - loss: 0.4098 - accuracy: 0.8455\n",
      "Epoch 8/100\n",
      "93/93 [==============================] - 0s 2ms/step - loss: 0.3969 - accuracy: 0.8509\n",
      "Epoch 9/100\n",
      "93/93 [==============================] - 0s 2ms/step - loss: 0.3968 - accuracy: 0.8513\n",
      "Epoch 10/100\n",
      "93/93 [==============================] - 0s 1ms/step - loss: 0.3884 - accuracy: 0.8572\n",
      "Epoch 11/100\n",
      "93/93 [==============================] - 0s 2ms/step - loss: 0.3666 - accuracy: 0.8595\n",
      "Epoch 12/100\n",
      "93/93 [==============================] - 0s 2ms/step - loss: 0.4023 - accuracy: 0.8422\n",
      "Epoch 13/100\n",
      "93/93 [==============================] - 0s 1ms/step - loss: 0.3882 - accuracy: 0.8519\n",
      "Epoch 14/100\n",
      "93/93 [==============================] - 0s 1ms/step - loss: 0.3959 - accuracy: 0.8442\n",
      "Epoch 15/100\n",
      "93/93 [==============================] - 0s 1ms/step - loss: 0.3899 - accuracy: 0.8511\n",
      "Epoch 16/100\n",
      "93/93 [==============================] - 0s 1ms/step - loss: 0.3824 - accuracy: 0.8516\n",
      "Epoch 17/100\n",
      "93/93 [==============================] - 0s 1ms/step - loss: 0.3867 - accuracy: 0.8495\n",
      "Epoch 18/100\n",
      "93/93 [==============================] - 0s 1ms/step - loss: 0.3690 - accuracy: 0.8568\n",
      "Epoch 19/100\n",
      "93/93 [==============================] - 0s 1ms/step - loss: 0.3804 - accuracy: 0.8582\n",
      "Epoch 20/100\n",
      "93/93 [==============================] - 0s 2ms/step - loss: 0.3918 - accuracy: 0.8429\n",
      "Epoch 21/100\n",
      "93/93 [==============================] - 0s 1ms/step - loss: 0.3894 - accuracy: 0.8473\n",
      "Epoch 22/100\n",
      "93/93 [==============================] - 0s 2ms/step - loss: 0.3926 - accuracy: 0.8493\n",
      "Epoch 23/100\n",
      "93/93 [==============================] - 0s 1ms/step - loss: 0.4028 - accuracy: 0.8310\n",
      "Epoch 24/100\n",
      "93/93 [==============================] - 0s 1ms/step - loss: 0.3690 - accuracy: 0.8614\n",
      "Epoch 25/100\n",
      "93/93 [==============================] - 0s 2ms/step - loss: 0.3756 - accuracy: 0.8603\n",
      "Epoch 26/100\n",
      "93/93 [==============================] - 0s 2ms/step - loss: 0.3786 - accuracy: 0.8573\n",
      "Epoch 27/100\n",
      "93/93 [==============================] - 0s 2ms/step - loss: 0.3898 - accuracy: 0.8468\n",
      "Epoch 28/100\n",
      "93/93 [==============================] - 0s 2ms/step - loss: 0.3791 - accuracy: 0.8511\n",
      "Epoch 29/100\n",
      "93/93 [==============================] - 0s 2ms/step - loss: 0.3917 - accuracy: 0.8487\n",
      "Epoch 30/100\n",
      "93/93 [==============================] - 0s 2ms/step - loss: 0.3766 - accuracy: 0.8529\n",
      "Epoch 31/100\n",
      "93/93 [==============================] - 0s 1ms/step - loss: 0.3735 - accuracy: 0.8621\n",
      "Epoch 32/100\n",
      "93/93 [==============================] - 0s 1ms/step - loss: 0.3693 - accuracy: 0.8631\n",
      "Epoch 33/100\n",
      "93/93 [==============================] - 0s 1ms/step - loss: 0.3581 - accuracy: 0.8642\n",
      "Epoch 34/100\n",
      "93/93 [==============================] - 0s 1ms/step - loss: 0.3639 - accuracy: 0.8593\n",
      "Epoch 35/100\n",
      "93/93 [==============================] - 0s 1ms/step - loss: 0.3664 - accuracy: 0.8620\n",
      "Epoch 36/100\n",
      "93/93 [==============================] - 0s 2ms/step - loss: 0.3779 - accuracy: 0.8564\n",
      "Epoch 37/100\n",
      "93/93 [==============================] - 0s 1ms/step - loss: 0.3758 - accuracy: 0.8543\n",
      "Epoch 38/100\n",
      "93/93 [==============================] - 0s 1ms/step - loss: 0.3752 - accuracy: 0.8578\n",
      "Epoch 39/100\n",
      "93/93 [==============================] - 0s 3ms/step - loss: 0.3768 - accuracy: 0.8584\n",
      "Epoch 40/100\n",
      "93/93 [==============================] - 0s 2ms/step - loss: 0.3742 - accuracy: 0.8559\n",
      "Epoch 41/100\n",
      "93/93 [==============================] - 0s 2ms/step - loss: 0.3813 - accuracy: 0.8495\n",
      "Epoch 42/100\n",
      "93/93 [==============================] - 0s 1ms/step - loss: 0.3777 - accuracy: 0.8507\n",
      "Epoch 43/100\n",
      "93/93 [==============================] - 0s 1ms/step - loss: 0.3630 - accuracy: 0.8573\n",
      "Epoch 44/100\n",
      "93/93 [==============================] - 0s 2ms/step - loss: 0.3769 - accuracy: 0.8551\n",
      "Epoch 45/100\n",
      "93/93 [==============================] - 0s 1ms/step - loss: 0.3415 - accuracy: 0.8737\n",
      "Epoch 46/100\n",
      "93/93 [==============================] - 0s 2ms/step - loss: 0.3743 - accuracy: 0.8575\n",
      "Epoch 47/100\n",
      "93/93 [==============================] - 0s 1ms/step - loss: 0.3698 - accuracy: 0.8582\n",
      "Epoch 48/100\n",
      "93/93 [==============================] - 0s 1ms/step - loss: 0.3783 - accuracy: 0.8541\n",
      "Epoch 49/100\n",
      "93/93 [==============================] - 0s 1ms/step - loss: 0.3479 - accuracy: 0.8702\n",
      "Epoch 50/100\n",
      "93/93 [==============================] - 0s 1ms/step - loss: 0.3718 - accuracy: 0.8571\n",
      "Epoch 51/100\n",
      "93/93 [==============================] - 0s 1ms/step - loss: 0.3734 - accuracy: 0.8581\n",
      "Epoch 52/100\n",
      "93/93 [==============================] - 0s 1ms/step - loss: 0.3665 - accuracy: 0.8600\n",
      "Epoch 53/100\n",
      "93/93 [==============================] - 0s 1ms/step - loss: 0.3751 - accuracy: 0.8544\n",
      "Epoch 54/100\n",
      "93/93 [==============================] - 0s 1ms/step - loss: 0.3433 - accuracy: 0.8694\n",
      "Epoch 55/100\n",
      "93/93 [==============================] - 0s 1ms/step - loss: 0.3757 - accuracy: 0.8553\n",
      "Epoch 56/100\n",
      "93/93 [==============================] - 0s 1ms/step - loss: 0.3696 - accuracy: 0.8605\n",
      "Epoch 57/100\n",
      "93/93 [==============================] - 0s 1ms/step - loss: 0.3698 - accuracy: 0.8570\n",
      "Epoch 58/100\n",
      "93/93 [==============================] - 0s 1ms/step - loss: 0.3761 - accuracy: 0.8548\n",
      "Epoch 59/100\n",
      "93/93 [==============================] - 0s 1ms/step - loss: 0.3587 - accuracy: 0.8629\n",
      "Epoch 60/100\n",
      "93/93 [==============================] - 0s 1ms/step - loss: 0.3517 - accuracy: 0.8650\n",
      "Epoch 61/100\n",
      "93/93 [==============================] - 0s 1ms/step - loss: 0.3764 - accuracy: 0.8525\n",
      "Epoch 62/100\n",
      "93/93 [==============================] - 0s 1ms/step - loss: 0.3747 - accuracy: 0.8582\n",
      "Epoch 63/100\n",
      "93/93 [==============================] - 0s 1ms/step - loss: 0.3679 - accuracy: 0.8593\n",
      "Epoch 64/100\n",
      "93/93 [==============================] - 0s 1ms/step - loss: 0.3616 - accuracy: 0.8652\n",
      "Epoch 65/100\n",
      "93/93 [==============================] - 0s 1ms/step - loss: 0.3560 - accuracy: 0.8659\n",
      "Epoch 66/100\n",
      "93/93 [==============================] - 0s 1ms/step - loss: 0.3668 - accuracy: 0.8625\n",
      "Epoch 67/100\n",
      "93/93 [==============================] - 0s 1ms/step - loss: 0.3549 - accuracy: 0.8681\n",
      "Epoch 68/100\n",
      "93/93 [==============================] - 0s 2ms/step - loss: 0.3632 - accuracy: 0.8602\n",
      "Epoch 69/100\n",
      "93/93 [==============================] - 0s 2ms/step - loss: 0.3458 - accuracy: 0.8660\n",
      "Epoch 70/100\n",
      "93/93 [==============================] - 0s 2ms/step - loss: 0.3610 - accuracy: 0.8637\n",
      "Epoch 71/100\n",
      "93/93 [==============================] - 0s 3ms/step - loss: 0.3650 - accuracy: 0.8588\n",
      "Epoch 72/100\n",
      "93/93 [==============================] - 0s 3ms/step - loss: 0.3643 - accuracy: 0.8643\n",
      "Epoch 73/100\n",
      "93/93 [==============================] - 0s 2ms/step - loss: 0.3816 - accuracy: 0.8495\n",
      "Epoch 74/100\n",
      "93/93 [==============================] - 0s 3ms/step - loss: 0.3584 - accuracy: 0.8594\n",
      "Epoch 75/100\n",
      "93/93 [==============================] - 0s 3ms/step - loss: 0.3451 - accuracy: 0.8685\n",
      "Epoch 76/100\n",
      "93/93 [==============================] - 0s 2ms/step - loss: 0.3660 - accuracy: 0.8573\n",
      "Epoch 77/100\n",
      "93/93 [==============================] - 0s 2ms/step - loss: 0.3852 - accuracy: 0.8526\n",
      "Epoch 78/100\n",
      "93/93 [==============================] - 0s 2ms/step - loss: 0.3410 - accuracy: 0.8710\n",
      "Epoch 79/100\n",
      "93/93 [==============================] - 0s 1ms/step - loss: 0.3573 - accuracy: 0.8670\n",
      "Epoch 80/100\n",
      "93/93 [==============================] - 0s 1ms/step - loss: 0.3727 - accuracy: 0.8532\n",
      "Epoch 81/100\n",
      "93/93 [==============================] - 0s 1ms/step - loss: 0.3634 - accuracy: 0.8583\n",
      "Epoch 82/100\n",
      "93/93 [==============================] - 0s 1ms/step - loss: 0.3632 - accuracy: 0.8636\n",
      "Epoch 83/100\n",
      "93/93 [==============================] - 0s 1ms/step - loss: 0.3624 - accuracy: 0.8592\n",
      "Epoch 84/100\n",
      "93/93 [==============================] - 0s 1ms/step - loss: 0.3303 - accuracy: 0.8756\n",
      "Epoch 85/100\n",
      "93/93 [==============================] - 0s 1ms/step - loss: 0.3848 - accuracy: 0.8482\n",
      "Epoch 86/100\n",
      "93/93 [==============================] - 0s 1ms/step - loss: 0.3429 - accuracy: 0.8663\n",
      "Epoch 87/100\n",
      "93/93 [==============================] - 0s 1ms/step - loss: 0.3525 - accuracy: 0.8642\n",
      "Epoch 88/100\n",
      "93/93 [==============================] - 0s 1ms/step - loss: 0.3513 - accuracy: 0.8652\n",
      "Epoch 89/100\n",
      "93/93 [==============================] - 0s 1ms/step - loss: 0.3708 - accuracy: 0.8550\n",
      "Epoch 90/100\n",
      "93/93 [==============================] - 0s 2ms/step - loss: 0.3493 - accuracy: 0.8720\n",
      "Epoch 91/100\n",
      "93/93 [==============================] - 0s 2ms/step - loss: 0.3668 - accuracy: 0.8569\n",
      "Epoch 92/100\n",
      "93/93 [==============================] - 0s 2ms/step - loss: 0.3942 - accuracy: 0.8414\n",
      "Epoch 93/100\n",
      "93/93 [==============================] - 0s 2ms/step - loss: 0.3596 - accuracy: 0.8533\n",
      "Epoch 94/100\n",
      "93/93 [==============================] - 0s 1ms/step - loss: 0.3450 - accuracy: 0.8674\n",
      "Epoch 95/100\n",
      "93/93 [==============================] - 0s 2ms/step - loss: 0.3642 - accuracy: 0.8586\n",
      "Epoch 96/100\n",
      "93/93 [==============================] - 0s 2ms/step - loss: 0.3426 - accuracy: 0.8631\n",
      "Epoch 97/100\n",
      "93/93 [==============================] - 0s 2ms/step - loss: 0.3502 - accuracy: 0.8649\n",
      "Epoch 98/100\n",
      "93/93 [==============================] - 0s 1ms/step - loss: 0.3654 - accuracy: 0.8631\n",
      "Epoch 99/100\n",
      "93/93 [==============================] - 0s 1ms/step - loss: 0.3562 - accuracy: 0.8602\n",
      "Epoch 100/100\n",
      "93/93 [==============================] - 0s 1ms/step - loss: 0.3702 - accuracy: 0.8552\n"
     ]
    },
    {
     "data": {
      "text/plain": [
       "<tensorflow.python.keras.callbacks.History at 0x66f2fde20>"
      ]
     },
     "execution_count": 57,
     "metadata": {},
     "output_type": "execute_result"
    }
   ],
   "source": [
    "#build model again with one hidden layer added\n",
    "model = keras.Sequential([\n",
    "    keras.layers.Dense(100, input_shape=(15,15),activation='relu'),\n",
    "    keras.layers.Dense(10, activation='sigmoid')\n",
    "])\n",
    "model.compile(\n",
    "                optimizer='adam',\n",
    "                loss='sparse_categorical_crossentropy',\n",
    "                metrics=['accuracy']\n",
    "             )\n",
    "model.fit(X_train_scaled,y_train,epochs=100)"
   ]
  },
  {
   "cell_type": "code",
   "execution_count": 58,
   "metadata": {
    "scrolled": true
   },
   "outputs": [
    {
     "name": "stdout",
     "output_type": "stream",
     "text": [
      "WARNING:tensorflow:Model was constructed with shape (None, 15, 15) for input KerasTensor(type_spec=TensorSpec(shape=(None, 15, 15), dtype=tf.float32, name='dense_1_input'), name='dense_1_input', description=\"created by layer 'dense_1_input'\"), but it was called on an input with incompatible shape (None, 15).\n",
      "40/40 [==============================] - 1s 4ms/step - loss: 0.3893 - accuracy: 0.8514\n"
     ]
    },
    {
     "data": {
      "text/plain": [
       "[0.38930508494377136, 0.8514150977134705]"
      ]
     },
     "execution_count": 58,
     "metadata": {},
     "output_type": "execute_result"
    }
   ],
   "source": [
    "#evaluate above built model\n",
    "model.evaluate(X_test_scaled,y_test)"
   ]
  },
  {
   "cell_type": "code",
   "execution_count": 59,
   "metadata": {},
   "outputs": [
    {
     "name": "stdout",
     "output_type": "stream",
     "text": [
      "Epoch 1/100\n",
      "WARNING:tensorflow:Model was constructed with shape (None, 15, 15) for input KerasTensor(type_spec=TensorSpec(shape=(None, 15, 15), dtype=tf.float32, name='dense_3_input'), name='dense_3_input', description=\"created by layer 'dense_3_input'\"), but it was called on an input with incompatible shape (None, 15).\n",
      "WARNING:tensorflow:Model was constructed with shape (None, 15, 15) for input KerasTensor(type_spec=TensorSpec(shape=(None, 15, 15), dtype=tf.float32, name='dense_3_input'), name='dense_3_input', description=\"created by layer 'dense_3_input'\"), but it was called on an input with incompatible shape (None, 15).\n",
      "93/93 [==============================] - 2s 4ms/step - loss: 1.4496 - accuracy: 0.5826\n",
      "Epoch 2/100\n",
      "93/93 [==============================] - 0s 5ms/step - loss: 0.4491 - accuracy: 0.8555\n",
      "Epoch 3/100\n",
      "93/93 [==============================] - 0s 4ms/step - loss: 0.4389 - accuracy: 0.8403\n",
      "Epoch 4/100\n",
      "93/93 [==============================] - 0s 4ms/step - loss: 0.3935 - accuracy: 0.8589\n",
      "Epoch 5/100\n",
      "93/93 [==============================] - 0s 5ms/step - loss: 0.3963 - accuracy: 0.8535\n",
      "Epoch 6/100\n",
      "93/93 [==============================] - 0s 5ms/step - loss: 0.4184 - accuracy: 0.8361\n",
      "Epoch 7/100\n",
      "93/93 [==============================] - 0s 4ms/step - loss: 0.3900 - accuracy: 0.8543\n",
      "Epoch 8/100\n",
      "93/93 [==============================] - 0s 3ms/step - loss: 0.3982 - accuracy: 0.8506\n",
      "Epoch 9/100\n",
      "93/93 [==============================] - 0s 3ms/step - loss: 0.3891 - accuracy: 0.8511\n",
      "Epoch 10/100\n",
      "93/93 [==============================] - 0s 3ms/step - loss: 0.3971 - accuracy: 0.8424\n",
      "Epoch 11/100\n",
      "93/93 [==============================] - 0s 3ms/step - loss: 0.3893 - accuracy: 0.8463\n",
      "Epoch 12/100\n",
      "93/93 [==============================] - 0s 3ms/step - loss: 0.3734 - accuracy: 0.8567\n",
      "Epoch 13/100\n",
      "93/93 [==============================] - 0s 3ms/step - loss: 0.3688 - accuracy: 0.8597\n",
      "Epoch 14/100\n",
      "93/93 [==============================] - 0s 2ms/step - loss: 0.3871 - accuracy: 0.8492\n",
      "Epoch 15/100\n",
      "93/93 [==============================] - 0s 2ms/step - loss: 0.3708 - accuracy: 0.8561\n",
      "Epoch 16/100\n",
      "93/93 [==============================] - 0s 2ms/step - loss: 0.3679 - accuracy: 0.8543\n",
      "Epoch 17/100\n",
      "93/93 [==============================] - 0s 2ms/step - loss: 0.3906 - accuracy: 0.8435\n",
      "Epoch 18/100\n",
      "93/93 [==============================] - 0s 2ms/step - loss: 0.3972 - accuracy: 0.8467\n",
      "Epoch 19/100\n",
      "93/93 [==============================] - 0s 1ms/step - loss: 0.3814 - accuracy: 0.8542\n",
      "Epoch 20/100\n",
      "93/93 [==============================] - 0s 2ms/step - loss: 0.3961 - accuracy: 0.8460\n",
      "Epoch 21/100\n",
      "93/93 [==============================] - 0s 2ms/step - loss: 0.3914 - accuracy: 0.8467\n",
      "Epoch 22/100\n",
      "93/93 [==============================] - 0s 1ms/step - loss: 0.3855 - accuracy: 0.8482\n",
      "Epoch 23/100\n",
      "93/93 [==============================] - 0s 2ms/step - loss: 0.3956 - accuracy: 0.8458\n",
      "Epoch 24/100\n",
      "93/93 [==============================] - 0s 2ms/step - loss: 0.3789 - accuracy: 0.8528\n",
      "Epoch 25/100\n",
      "93/93 [==============================] - 0s 2ms/step - loss: 0.3637 - accuracy: 0.8630\n",
      "Epoch 26/100\n",
      "93/93 [==============================] - 0s 2ms/step - loss: 0.3924 - accuracy: 0.8458\n",
      "Epoch 27/100\n",
      "93/93 [==============================] - 0s 2ms/step - loss: 0.3690 - accuracy: 0.8549\n",
      "Epoch 28/100\n",
      "93/93 [==============================] - 0s 2ms/step - loss: 0.3863 - accuracy: 0.8440\n",
      "Epoch 29/100\n",
      "93/93 [==============================] - 0s 2ms/step - loss: 0.3879 - accuracy: 0.8512\n",
      "Epoch 30/100\n",
      "93/93 [==============================] - 0s 2ms/step - loss: 0.3827 - accuracy: 0.8491\n",
      "Epoch 31/100\n",
      "93/93 [==============================] - 0s 2ms/step - loss: 0.3802 - accuracy: 0.8528\n",
      "Epoch 32/100\n",
      "93/93 [==============================] - 0s 2ms/step - loss: 0.3723 - accuracy: 0.8583\n",
      "Epoch 33/100\n",
      "93/93 [==============================] - 0s 2ms/step - loss: 0.3779 - accuracy: 0.8535\n",
      "Epoch 34/100\n",
      "93/93 [==============================] - 0s 2ms/step - loss: 0.3719 - accuracy: 0.8595\n",
      "Epoch 35/100\n",
      "93/93 [==============================] - 0s 1ms/step - loss: 0.3701 - accuracy: 0.8563\n",
      "Epoch 36/100\n",
      "93/93 [==============================] - 0s 1ms/step - loss: 0.3820 - accuracy: 0.8530\n",
      "Epoch 37/100\n",
      "93/93 [==============================] - 0s 2ms/step - loss: 0.3626 - accuracy: 0.8586\n",
      "Epoch 38/100\n",
      "93/93 [==============================] - 0s 1ms/step - loss: 0.3777 - accuracy: 0.8495\n",
      "Epoch 39/100\n",
      "93/93 [==============================] - 0s 2ms/step - loss: 0.3759 - accuracy: 0.8559\n",
      "Epoch 40/100\n",
      "93/93 [==============================] - 0s 2ms/step - loss: 0.3631 - accuracy: 0.8605: 0s - loss: 0.3617 - accuracy: 0.86\n",
      "Epoch 41/100\n",
      "93/93 [==============================] - 0s 2ms/step - loss: 0.3551 - accuracy: 0.8694\n",
      "Epoch 42/100\n",
      "93/93 [==============================] - 0s 1ms/step - loss: 0.3767 - accuracy: 0.8485\n",
      "Epoch 43/100\n",
      "93/93 [==============================] - 0s 1ms/step - loss: 0.3880 - accuracy: 0.8522\n",
      "Epoch 44/100\n",
      "93/93 [==============================] - 0s 2ms/step - loss: 0.3657 - accuracy: 0.8547\n",
      "Epoch 45/100\n",
      "93/93 [==============================] - 0s 2ms/step - loss: 0.3724 - accuracy: 0.8564\n",
      "Epoch 46/100\n",
      "93/93 [==============================] - 0s 2ms/step - loss: 0.3749 - accuracy: 0.8540\n",
      "Epoch 47/100\n",
      "93/93 [==============================] - 0s 1ms/step - loss: 0.3690 - accuracy: 0.8610\n",
      "Epoch 48/100\n",
      "93/93 [==============================] - 0s 1ms/step - loss: 0.3762 - accuracy: 0.8570\n",
      "Epoch 49/100\n",
      "93/93 [==============================] - 0s 1ms/step - loss: 0.3712 - accuracy: 0.8601\n",
      "Epoch 50/100\n",
      "93/93 [==============================] - 0s 2ms/step - loss: 0.3544 - accuracy: 0.8656\n",
      "Epoch 51/100\n",
      "93/93 [==============================] - 0s 2ms/step - loss: 0.3901 - accuracy: 0.8492\n",
      "Epoch 52/100\n",
      "93/93 [==============================] - 0s 2ms/step - loss: 0.3887 - accuracy: 0.8510\n",
      "Epoch 53/100\n",
      "93/93 [==============================] - 0s 1ms/step - loss: 0.3521 - accuracy: 0.8586\n",
      "Epoch 54/100\n",
      "93/93 [==============================] - 0s 1ms/step - loss: 0.3514 - accuracy: 0.8665\n",
      "Epoch 55/100\n",
      "93/93 [==============================] - 0s 1ms/step - loss: 0.3534 - accuracy: 0.8637\n",
      "Epoch 56/100\n",
      "93/93 [==============================] - 0s 1ms/step - loss: 0.3823 - accuracy: 0.8467\n",
      "Epoch 57/100\n",
      "93/93 [==============================] - 0s 1ms/step - loss: 0.3669 - accuracy: 0.8576\n",
      "Epoch 58/100\n",
      "93/93 [==============================] - 0s 1ms/step - loss: 0.3659 - accuracy: 0.8591\n",
      "Epoch 59/100\n",
      "93/93 [==============================] - 0s 1ms/step - loss: 0.3742 - accuracy: 0.8558\n",
      "Epoch 60/100\n",
      "93/93 [==============================] - 0s 2ms/step - loss: 0.3592 - accuracy: 0.8585\n",
      "Epoch 61/100\n",
      "93/93 [==============================] - 0s 1ms/step - loss: 0.3698 - accuracy: 0.8606\n",
      "Epoch 62/100\n",
      "93/93 [==============================] - 0s 2ms/step - loss: 0.3685 - accuracy: 0.8533\n",
      "Epoch 63/100\n",
      "93/93 [==============================] - 0s 2ms/step - loss: 0.3797 - accuracy: 0.8556\n",
      "Epoch 64/100\n",
      "93/93 [==============================] - 0s 1ms/step - loss: 0.3577 - accuracy: 0.8647\n",
      "Epoch 65/100\n",
      "93/93 [==============================] - 0s 1ms/step - loss: 0.3525 - accuracy: 0.8632\n",
      "Epoch 66/100\n",
      "93/93 [==============================] - 0s 1ms/step - loss: 0.3673 - accuracy: 0.8565\n",
      "Epoch 67/100\n",
      "93/93 [==============================] - 0s 1ms/step - loss: 0.3663 - accuracy: 0.8600\n",
      "Epoch 68/100\n",
      "93/93 [==============================] - 0s 1ms/step - loss: 0.3633 - accuracy: 0.8588\n",
      "Epoch 69/100\n",
      "93/93 [==============================] - 0s 1ms/step - loss: 0.3642 - accuracy: 0.8540: 0s - loss: 0.3641 - accuracy: 0.85\n",
      "Epoch 70/100\n",
      "93/93 [==============================] - 0s 1ms/step - loss: 0.3645 - accuracy: 0.8622\n",
      "Epoch 71/100\n",
      "93/93 [==============================] - 0s 2ms/step - loss: 0.3592 - accuracy: 0.8574\n",
      "Epoch 72/100\n",
      "93/93 [==============================] - 0s 1ms/step - loss: 0.3696 - accuracy: 0.8595\n",
      "Epoch 73/100\n",
      "93/93 [==============================] - 0s 1ms/step - loss: 0.3585 - accuracy: 0.8598\n",
      "Epoch 74/100\n",
      "93/93 [==============================] - 0s 1ms/step - loss: 0.3767 - accuracy: 0.8541\n",
      "Epoch 75/100\n",
      "93/93 [==============================] - 0s 1ms/step - loss: 0.3561 - accuracy: 0.8681\n",
      "Epoch 76/100\n"
     ]
    },
    {
     "name": "stdout",
     "output_type": "stream",
     "text": [
      "93/93 [==============================] - 0s 1ms/step - loss: 0.3529 - accuracy: 0.8581\n",
      "Epoch 77/100\n",
      "93/93 [==============================] - 0s 1ms/step - loss: 0.3601 - accuracy: 0.8605\n",
      "Epoch 78/100\n",
      "93/93 [==============================] - 0s 1ms/step - loss: 0.3647 - accuracy: 0.8582\n",
      "Epoch 79/100\n",
      "93/93 [==============================] - 0s 1ms/step - loss: 0.3649 - accuracy: 0.8569\n",
      "Epoch 80/100\n",
      "93/93 [==============================] - 0s 1ms/step - loss: 0.3794 - accuracy: 0.8513\n",
      "Epoch 81/100\n",
      "93/93 [==============================] - 0s 1ms/step - loss: 0.3675 - accuracy: 0.8585\n",
      "Epoch 82/100\n",
      "93/93 [==============================] - 0s 1ms/step - loss: 0.3616 - accuracy: 0.8598\n",
      "Epoch 83/100\n",
      "93/93 [==============================] - 0s 1ms/step - loss: 0.3567 - accuracy: 0.8623\n",
      "Epoch 84/100\n",
      "93/93 [==============================] - 0s 1ms/step - loss: 0.3663 - accuracy: 0.8564\n",
      "Epoch 85/100\n",
      "93/93 [==============================] - 0s 2ms/step - loss: 0.3709 - accuracy: 0.8550\n",
      "Epoch 86/100\n",
      "93/93 [==============================] - 0s 2ms/step - loss: 0.3513 - accuracy: 0.8610\n",
      "Epoch 87/100\n",
      "93/93 [==============================] - 0s 2ms/step - loss: 0.3429 - accuracy: 0.8707\n",
      "Epoch 88/100\n",
      "93/93 [==============================] - 0s 2ms/step - loss: 0.3609 - accuracy: 0.8658\n",
      "Epoch 89/100\n",
      "93/93 [==============================] - 0s 2ms/step - loss: 0.3413 - accuracy: 0.8667\n",
      "Epoch 90/100\n",
      "93/93 [==============================] - 0s 2ms/step - loss: 0.3650 - accuracy: 0.8579\n",
      "Epoch 91/100\n",
      "93/93 [==============================] - 0s 2ms/step - loss: 0.3730 - accuracy: 0.8547\n",
      "Epoch 92/100\n",
      "93/93 [==============================] - 0s 2ms/step - loss: 0.3532 - accuracy: 0.8610\n",
      "Epoch 93/100\n",
      "93/93 [==============================] - 0s 2ms/step - loss: 0.3425 - accuracy: 0.8620\n",
      "Epoch 94/100\n",
      "93/93 [==============================] - 0s 2ms/step - loss: 0.3366 - accuracy: 0.8691\n",
      "Epoch 95/100\n",
      "93/93 [==============================] - 0s 1ms/step - loss: 0.3621 - accuracy: 0.8626\n",
      "Epoch 96/100\n",
      "93/93 [==============================] - 0s 1ms/step - loss: 0.3610 - accuracy: 0.8605\n",
      "Epoch 97/100\n",
      "93/93 [==============================] - 0s 1ms/step - loss: 0.3589 - accuracy: 0.8549\n",
      "Epoch 98/100\n",
      "93/93 [==============================] - 0s 1ms/step - loss: 0.3560 - accuracy: 0.8624\n",
      "Epoch 99/100\n",
      "93/93 [==============================] - 0s 1ms/step - loss: 0.3584 - accuracy: 0.8561\n",
      "Epoch 100/100\n",
      "93/93 [==============================] - 0s 1ms/step - loss: 0.3336 - accuracy: 0.8736\n"
     ]
    },
    {
     "data": {
      "text/plain": [
       "<tensorflow.python.keras.callbacks.History at 0x670becfa0>"
      ]
     },
     "execution_count": 59,
     "metadata": {},
     "output_type": "execute_result"
    }
   ],
   "source": [
    "#build model again with two hidden layers added\n",
    "model = keras.Sequential([\n",
    "    keras.layers.Dense(100, input_shape=(15,15),activation='relu'),\n",
    "    keras.layers.Dense(50, activation='sigmoid'),\n",
    "    keras.layers.Dense(10, activation='sigmoid')\n",
    "])\n",
    "model.compile(\n",
    "                optimizer='adam',\n",
    "                loss='sparse_categorical_crossentropy',\n",
    "                metrics=['accuracy']\n",
    "             )\n",
    "model.fit(X_train_scaled,y_train,epochs=100)"
   ]
  },
  {
   "cell_type": "code",
   "execution_count": 60,
   "metadata": {},
   "outputs": [
    {
     "name": "stdout",
     "output_type": "stream",
     "text": [
      "WARNING:tensorflow:Model was constructed with shape (None, 15, 15) for input KerasTensor(type_spec=TensorSpec(shape=(None, 15, 15), dtype=tf.float32, name='dense_3_input'), name='dense_3_input', description=\"created by layer 'dense_3_input'\"), but it was called on an input with incompatible shape (None, 15).\n",
      "40/40 [==============================] - 0s 2ms/step - loss: 0.3941 - accuracy: 0.8514\n"
     ]
    },
    {
     "data": {
      "text/plain": [
       "[0.3940700590610504, 0.8514150977134705]"
      ]
     },
     "execution_count": 60,
     "metadata": {},
     "output_type": "execute_result"
    }
   ],
   "source": [
    "#evaluate above built model\n",
    "model.evaluate(X_test_scaled,y_test)"
   ]
  },
  {
   "cell_type": "markdown",
   "metadata": {},
   "source": [
    "In above project we used data from ongoing heart disease study from Framingham, US.\n",
    "\n",
    "The dataset downloaded from kaggle.com https://www.kaggle.com/dileep070/heart-disease-prediction-using-logistic-regression\n",
    "\n",
    "We used this datased and classification algorithms to build the classification models and evaluated their performance.\n",
    "The algorithms used:\n",
    "KNeighborsClassifier,\n",
    "Support Vector Classification,\n",
    "Artificial Neural Network"
   ]
  }
 ],
 "metadata": {
  "kernelspec": {
   "display_name": "Python 3",
   "language": "python",
   "name": "python3"
  },
  "language_info": {
   "codemirror_mode": {
    "name": "ipython",
    "version": 3
   },
   "file_extension": ".py",
   "mimetype": "text/x-python",
   "name": "python",
   "nbconvert_exporter": "python",
   "pygments_lexer": "ipython3",
   "version": "3.8.5"
  }
 },
 "nbformat": 4,
 "nbformat_minor": 4
}
